{
 "cells": [
  {
   "cell_type": "code",
   "execution_count": 1,
   "id": "f7fc7a73-04b7-483c-97c7-583e8b233a27",
   "metadata": {},
   "outputs": [],
   "source": [
    "import pandas as pd\n",
    "import numpy as np\n",
    "\n",
    "# import matplotlib.pyplot as plt\n",
    "# import seaborn as sns\n",
    "# %matplotlib inline"
   ]
  },
  {
   "cell_type": "markdown",
   "id": "1330df46-c389-4aab-b4cb-3bbe632aae3b",
   "metadata": {},
   "source": [
    "Note: do not import matplotlib here so you can use n_jobs > 1 later.\n",
    "\n",
    "### Data cleaning and exploration"
   ]
  },
  {
   "cell_type": "code",
   "execution_count": 2,
   "id": "b09788b2-c79b-4531-b9cd-19b5ea0c4176",
   "metadata": {},
   "outputs": [],
   "source": [
    "bb = pd.read_csv('/Volumes/My_Passport/MILB/pitchdata.csv')"
   ]
  },
  {
   "cell_type": "code",
   "execution_count": 3,
   "id": "1f992f05-a8f0-4814-b439-41236cc1d35c",
   "metadata": {},
   "outputs": [
    {
     "name": "stdout",
     "output_type": "stream",
     "text": [
      "<class 'pandas.core.frame.DataFrame'>\n",
      "RangeIndex: 62577 entries, 0 to 62576\n",
      "Data columns (total 9 columns):\n",
      " #   Column        Non-Null Count  Dtype  \n",
      "---  ------        --------------  -----  \n",
      " 0   GameID        62577 non-null  object \n",
      " 1   PitchNumber   62577 non-null  int64  \n",
      " 2   Balls         62577 non-null  int64  \n",
      " 3   Strikes       62577 non-null  int64  \n",
      " 4   PitcherHand   62577 non-null  object \n",
      " 5   BatSide       62577 non-null  object \n",
      " 6   PlateHeight   62466 non-null  float64\n",
      " 7   PlateSide     62466 non-null  float64\n",
      " 8   CalledStrike  62577 non-null  int64  \n",
      "dtypes: float64(2), int64(4), object(3)\n",
      "memory usage: 4.3+ MB\n"
     ]
    }
   ],
   "source": [
    "bb.info()"
   ]
  },
  {
   "cell_type": "markdown",
   "id": "05ed491c-f076-4a82-94e8-24aca6431288",
   "metadata": {},
   "source": [
    "So few NaN values that it makes most sense to drop them. They also occur in the same observations, so we are only losing 111 observations total."
   ]
  },
  {
   "cell_type": "code",
   "execution_count": 4,
   "id": "a84cb248-7e5f-4cae-a1d7-cd0a1e0050c2",
   "metadata": {},
   "outputs": [],
   "source": [
    "bb = bb.dropna()"
   ]
  },
  {
   "cell_type": "code",
   "execution_count": 5,
   "id": "cb1288e0-729b-4f7d-860a-089807df679d",
   "metadata": {},
   "outputs": [
    {
     "data": {
      "text/html": [
       "<div>\n",
       "<style scoped>\n",
       "    .dataframe tbody tr th:only-of-type {\n",
       "        vertical-align: middle;\n",
       "    }\n",
       "\n",
       "    .dataframe tbody tr th {\n",
       "        vertical-align: top;\n",
       "    }\n",
       "\n",
       "    .dataframe thead th {\n",
       "        text-align: right;\n",
       "    }\n",
       "</style>\n",
       "<table border=\"1\" class=\"dataframe\">\n",
       "  <thead>\n",
       "    <tr style=\"text-align: right;\">\n",
       "      <th></th>\n",
       "      <th>PitchNumber</th>\n",
       "      <th>Balls</th>\n",
       "      <th>Strikes</th>\n",
       "      <th>PlateHeight</th>\n",
       "      <th>PlateSide</th>\n",
       "      <th>CalledStrike</th>\n",
       "    </tr>\n",
       "  </thead>\n",
       "  <tbody>\n",
       "    <tr>\n",
       "      <th>count</th>\n",
       "      <td>62466.000000</td>\n",
       "      <td>62466.000000</td>\n",
       "      <td>62466.000000</td>\n",
       "      <td>62466.000000</td>\n",
       "      <td>62466.000000</td>\n",
       "      <td>62466.000000</td>\n",
       "    </tr>\n",
       "    <tr>\n",
       "      <th>mean</th>\n",
       "      <td>145.150754</td>\n",
       "      <td>0.763231</td>\n",
       "      <td>0.729981</td>\n",
       "      <td>2.281051</td>\n",
       "      <td>-0.060027</td>\n",
       "      <td>0.313050</td>\n",
       "    </tr>\n",
       "    <tr>\n",
       "      <th>std</th>\n",
       "      <td>86.583364</td>\n",
       "      <td>0.931636</td>\n",
       "      <td>0.803086</td>\n",
       "      <td>1.160840</td>\n",
       "      <td>0.990611</td>\n",
       "      <td>0.463738</td>\n",
       "    </tr>\n",
       "    <tr>\n",
       "      <th>min</th>\n",
       "      <td>1.000000</td>\n",
       "      <td>0.000000</td>\n",
       "      <td>0.000000</td>\n",
       "      <td>-3.641154</td>\n",
       "      <td>-4.410613</td>\n",
       "      <td>0.000000</td>\n",
       "    </tr>\n",
       "    <tr>\n",
       "      <th>25%</th>\n",
       "      <td>71.000000</td>\n",
       "      <td>0.000000</td>\n",
       "      <td>0.000000</td>\n",
       "      <td>1.462439</td>\n",
       "      <td>-0.802473</td>\n",
       "      <td>0.000000</td>\n",
       "    </tr>\n",
       "    <tr>\n",
       "      <th>50%</th>\n",
       "      <td>142.000000</td>\n",
       "      <td>0.000000</td>\n",
       "      <td>1.000000</td>\n",
       "      <td>2.231538</td>\n",
       "      <td>-0.077484</td>\n",
       "      <td>0.000000</td>\n",
       "    </tr>\n",
       "    <tr>\n",
       "      <th>75%</th>\n",
       "      <td>214.000000</td>\n",
       "      <td>1.000000</td>\n",
       "      <td>1.000000</td>\n",
       "      <td>3.114517</td>\n",
       "      <td>0.680923</td>\n",
       "      <td>1.000000</td>\n",
       "    </tr>\n",
       "    <tr>\n",
       "      <th>max</th>\n",
       "      <td>370.000000</td>\n",
       "      <td>3.000000</td>\n",
       "      <td>2.000000</td>\n",
       "      <td>9.177937</td>\n",
       "      <td>5.231591</td>\n",
       "      <td>1.000000</td>\n",
       "    </tr>\n",
       "  </tbody>\n",
       "</table>\n",
       "</div>"
      ],
      "text/plain": [
       "        PitchNumber         Balls       Strikes   PlateHeight     PlateSide  \\\n",
       "count  62466.000000  62466.000000  62466.000000  62466.000000  62466.000000   \n",
       "mean     145.150754      0.763231      0.729981      2.281051     -0.060027   \n",
       "std       86.583364      0.931636      0.803086      1.160840      0.990611   \n",
       "min        1.000000      0.000000      0.000000     -3.641154     -4.410613   \n",
       "25%       71.000000      0.000000      0.000000      1.462439     -0.802473   \n",
       "50%      142.000000      0.000000      1.000000      2.231538     -0.077484   \n",
       "75%      214.000000      1.000000      1.000000      3.114517      0.680923   \n",
       "max      370.000000      3.000000      2.000000      9.177937      5.231591   \n",
       "\n",
       "       CalledStrike  \n",
       "count  62466.000000  \n",
       "mean       0.313050  \n",
       "std        0.463738  \n",
       "min        0.000000  \n",
       "25%        0.000000  \n",
       "50%        0.000000  \n",
       "75%        1.000000  \n",
       "max        1.000000  "
      ]
     },
     "execution_count": 5,
     "metadata": {},
     "output_type": "execute_result"
    }
   ],
   "source": [
    "bb.describe()"
   ]
  },
  {
   "cell_type": "markdown",
   "id": "2c7f864c-4fc4-421c-8d5c-3b5daf75ff42",
   "metadata": {},
   "source": [
    "Check balance of two classes:"
   ]
  },
  {
   "cell_type": "code",
   "execution_count": 6,
   "id": "1f3c5c7f-aed4-4b49-afab-72881a50a119",
   "metadata": {},
   "outputs": [
    {
     "data": {
      "text/plain": [
       "0    42911\n",
       "1    19555\n",
       "Name: CalledStrike, dtype: int64"
      ]
     },
     "execution_count": 6,
     "metadata": {},
     "output_type": "execute_result"
    }
   ],
   "source": [
    "bb.CalledStrike.value_counts()"
   ]
  },
  {
   "cell_type": "markdown",
   "id": "6112a359-65ae-4f1f-a88e-7824633280c6",
   "metadata": {},
   "source": [
    "What is this GameID column and is it useful or necessary?"
   ]
  },
  {
   "cell_type": "code",
   "execution_count": 7,
   "id": "6fb5ceb9-04cf-453d-b33e-3ae75f6bbb90",
   "metadata": {},
   "outputs": [
    {
     "data": {
      "text/plain": [
       "A45A3595-1E4A-4562-A574-FB813D1A2662    217\n",
       "D70DE0BE-7191-421B-A064-423F4B7DFE7F    216\n",
       "668A001C-5745-4513-86C8-C68FDA27B12C    212\n",
       "B58A2337-E436-4D3B-AF69-C761038901B3    211\n",
       "93E3EBB1-9297-4A1A-BDB0-1635A3C58432    211\n",
       "                                       ... \n",
       "FEB732DD-0DEE-4ABB-BF44-78147A3CDD50     92\n",
       "C82FB446-7FD8-4AC9-A644-775936F96739     92\n",
       "B5F40BB6-066A-42FC-ACF8-A50FCE2B60A9     91\n",
       "0756AE21-05F2-411C-9913-78B121273E76     87\n",
       "51D4BEEF-B226-40D7-A7D5-B9EC99ACFAEC     77\n",
       "Name: GameID, Length: 404, dtype: int64"
      ]
     },
     "execution_count": 7,
     "metadata": {},
     "output_type": "execute_result"
    }
   ],
   "source": [
    "bb.GameID.value_counts()"
   ]
  },
  {
   "cell_type": "markdown",
   "id": "e5d90aef-98bd-480d-b33f-fc91a99eb01c",
   "metadata": {},
   "source": [
    "Turn batter and pitcher side/hand to dummy columns, create a new feature describing if the pitcher and batter have the same dominant hand, then drop the original PitcherHand and BatSide columns."
   ]
  },
  {
   "cell_type": "code",
   "execution_count": 8,
   "id": "d8689930-ad41-47e8-847f-3ab5ccec0b42",
   "metadata": {
    "tags": []
   },
   "outputs": [],
   "source": [
    "bb['dummy_PitcherRighty'] = pd.get_dummies(bb.PitcherHand,drop_first=True)\n",
    "bb['dummy_BatterRighty'] = pd.get_dummies(bb.BatSide,drop_first=True)\n",
    "\n",
    "bb['same_handedness'] = bb.PitcherHand == bb.BatSide\n",
    "\n",
    "bb = bb.drop(columns = ['PitcherHand','BatSide'])"
   ]
  },
  {
   "cell_type": "code",
   "execution_count": 9,
   "id": "6958be6c-b30f-43ef-a44b-b87d6b9b95c6",
   "metadata": {},
   "outputs": [],
   "source": [
    "# bb = bb.reset_index(drop=True)"
   ]
  },
  {
   "cell_type": "markdown",
   "id": "9b45b947-5ee3-43a2-bdf6-21d3c9822f8e",
   "metadata": {},
   "source": [
    "### Data analysis\n",
    "#### Using all features\n",
    "Split data into dependent and independent variables."
   ]
  },
  {
   "cell_type": "code",
   "execution_count": 10,
   "id": "2ac73eec-e1ef-4e3f-a030-c4735713d637",
   "metadata": {},
   "outputs": [],
   "source": [
    "y = bb.CalledStrike\n",
    "X = bb[['Balls','Strikes','PlateHeight','PlateSide','dummy_PitcherRighty','dummy_BatterRighty','same_handedness']]"
   ]
  },
  {
   "cell_type": "markdown",
   "id": "6e29018a-917e-4ba8-9de4-5901e63b738f",
   "metadata": {},
   "source": [
    "Imports for various samplers and scalers. Also, encode the GameID column to an ordinal signifying group number using pd.factorize(). Could have used OrdinalEncoder from sklearn.preprocessing here also."
   ]
  },
  {
   "cell_type": "code",
   "execution_count": 11,
   "id": "f50146d4-43d7-4671-9b96-c107633e0ac9",
   "metadata": {},
   "outputs": [],
   "source": [
    "from sklearn.preprocessing import StandardScaler, MinMaxScaler, MaxAbsScaler, PowerTransformer\n",
    "from sklearn.model_selection import train_test_split, cross_val_score, RandomizedSearchCV,GroupKFold, GridSearchCV\n",
    "\n",
    "sc = StandardScaler()\n",
    "minmaxsc = MinMaxScaler()\n",
    "maxabssc = MaxAbsScaler()\n",
    "pt = PowerTransformer()\n",
    "gkf = GroupKFold(5)\n",
    "groups,ids_ = pd.factorize(bb.GameID)"
   ]
  },
  {
   "cell_type": "markdown",
   "id": "dcc38ad9-18a0-4c5f-b01f-20ffffb7d4fd",
   "metadata": {},
   "source": [
    "Split data into train and test sets along group lines using GroupKFold. Had previously chosen 5 folds for cross-validation, so here it performs the first split and then breaks the for loop. The X_te and y_te are the test set, while the X_tr and y_tr are the train, which will later be split again for 5-fold cross-validation."
   ]
  },
  {
   "cell_type": "code",
   "execution_count": 12,
   "id": "6fd67f29-5273-45c1-bedf-c7db68c8f5e1",
   "metadata": {},
   "outputs": [],
   "source": [
    "for tr,te in gkf.split(X,y,groups):\n",
    "    X_tr,X_te = X.iloc[tr],X.iloc[te]\n",
    "    y_tr,y_te = y.iloc[tr],y.iloc[te]\n",
    "    break\n",
    "\n",
    "# X_tr,X_te,y_tr,y_te = train_test_split(X,y,test_size=0.2,random_state=87)"
   ]
  },
  {
   "cell_type": "markdown",
   "id": "a53cb325-fd9a-48fa-a3a5-91779e629eb4",
   "metadata": {},
   "source": [
    "Could run this to look at each feature's individual influence on the two classes. This would require importing seaborn earlier."
   ]
  },
  {
   "cell_type": "code",
   "execution_count": 13,
   "id": "86bc9d30-65d8-4528-9d87-24542b555d82",
   "metadata": {},
   "outputs": [],
   "source": [
    "# sns.pairplot(x_train.join(y_train),'CalledStrike')"
   ]
  },
  {
   "cell_type": "code",
   "execution_count": 14,
   "id": "0f7a0e5c-29a9-4a15-a967-77d29924ca09",
   "metadata": {},
   "outputs": [
    {
     "name": "stderr",
     "output_type": "stream",
     "text": [
      "Using TensorFlow backend.\n",
      "/Users/nicolegreen/anaconda3/envs/metis/lib/python3.7/site-packages/tensorflow/python/framework/dtypes.py:526: FutureWarning: Passing (type, 1) or '1type' as a synonym of type is deprecated; in a future version of numpy, it will be understood as (type, (1,)) / '(1,)type'.\n",
      "  _np_qint8 = np.dtype([(\"qint8\", np.int8, 1)])\n",
      "/Users/nicolegreen/anaconda3/envs/metis/lib/python3.7/site-packages/tensorflow/python/framework/dtypes.py:527: FutureWarning: Passing (type, 1) or '1type' as a synonym of type is deprecated; in a future version of numpy, it will be understood as (type, (1,)) / '(1,)type'.\n",
      "  _np_quint8 = np.dtype([(\"quint8\", np.uint8, 1)])\n",
      "/Users/nicolegreen/anaconda3/envs/metis/lib/python3.7/site-packages/tensorflow/python/framework/dtypes.py:528: FutureWarning: Passing (type, 1) or '1type' as a synonym of type is deprecated; in a future version of numpy, it will be understood as (type, (1,)) / '(1,)type'.\n",
      "  _np_qint16 = np.dtype([(\"qint16\", np.int16, 1)])\n",
      "/Users/nicolegreen/anaconda3/envs/metis/lib/python3.7/site-packages/tensorflow/python/framework/dtypes.py:529: FutureWarning: Passing (type, 1) or '1type' as a synonym of type is deprecated; in a future version of numpy, it will be understood as (type, (1,)) / '(1,)type'.\n",
      "  _np_quint16 = np.dtype([(\"quint16\", np.uint16, 1)])\n",
      "/Users/nicolegreen/anaconda3/envs/metis/lib/python3.7/site-packages/tensorflow/python/framework/dtypes.py:530: FutureWarning: Passing (type, 1) or '1type' as a synonym of type is deprecated; in a future version of numpy, it will be understood as (type, (1,)) / '(1,)type'.\n",
      "  _np_qint32 = np.dtype([(\"qint32\", np.int32, 1)])\n",
      "/Users/nicolegreen/anaconda3/envs/metis/lib/python3.7/site-packages/tensorflow/python/framework/dtypes.py:535: FutureWarning: Passing (type, 1) or '1type' as a synonym of type is deprecated; in a future version of numpy, it will be understood as (type, (1,)) / '(1,)type'.\n",
      "  np_resource = np.dtype([(\"resource\", np.ubyte, 1)])\n"
     ]
    }
   ],
   "source": [
    "from imblearn.under_sampling import RandomUnderSampler,TomekLinks,NearMiss\n",
    "from imblearn.pipeline import make_pipeline\n",
    "\n",
    "from sklearn.neighbors import KNeighborsClassifier\n",
    "from imblearn.ensemble import BalancedRandomForestClassifier,EasyEnsembleClassifier\n",
    "\n",
    "from xgboost import XGBClassifier"
   ]
  },
  {
   "cell_type": "markdown",
   "id": "ec0afb83-323b-4035-aba9-ce191762eb5e",
   "metadata": {
    "tags": []
   },
   "source": [
    "Create dictionaries to hold the results from RandomizedSearchCV. I'd employed the BalancedRandomForestClassifier originally as I was only looking at the RandomUnderSampler, which is built into that class. When I started using other undersampling techniques, however, I could not find how to specify those when instantiating the bal_rf class, so I ended up just balancing the classes with the sampler of interest prior to any model training. I think this means I could have used the regular RandomForestClassifier from sklearn.forest instead.\n",
    "\n",
    "Also, the number of iterations for the random search is probably a little high - I'd been varying more parameters in each of the classifiers before. Current parameters having it operate as more of a GridSearchCV."
   ]
  },
  {
   "cell_type": "code",
   "execution_count": 15,
   "id": "4b742878-f3b3-47cc-953f-0e8bed1b6167",
   "metadata": {
    "tags": []
   },
   "outputs": [
    {
     "name": "stderr",
     "output_type": "stream",
     "text": [
      "/Users/nicolegreen/anaconda3/envs/metis/lib/python3.7/site-packages/joblib/externals/loky/process_executor.py:706: UserWarning: A worker stopped while some jobs were given to the executor. This can be caused by a too short worker timeout or by a memory leak.\n",
      "  \"timeout or by a memory leak.\", UserWarning\n",
      "/Users/nicolegreen/anaconda3/envs/metis/lib/python3.7/site-packages/sklearn/model_selection/_search.py:266: UserWarning: The total space of parameters 6 is smaller than n_iter=20. Running 6 iterations. For exhaustive searches, use GridSearchCV.\n",
      "  % (grid_size, self.n_iter, grid_size), UserWarning)\n",
      "/Users/nicolegreen/anaconda3/envs/metis/lib/python3.7/site-packages/sklearn/model_selection/_search.py:266: UserWarning: The total space of parameters 6 is smaller than n_iter=20. Running 6 iterations. For exhaustive searches, use GridSearchCV.\n",
      "  % (grid_size, self.n_iter, grid_size), UserWarning)\n",
      "/Users/nicolegreen/anaconda3/envs/metis/lib/python3.7/site-packages/sklearn/model_selection/_search.py:266: UserWarning: The total space of parameters 6 is smaller than n_iter=20. Running 6 iterations. For exhaustive searches, use GridSearchCV.\n",
      "  % (grid_size, self.n_iter, grid_size), UserWarning)\n"
     ]
    }
   ],
   "source": [
    "knn = KNeighborsClassifier(n_jobs=-1)\n",
    "k_range = range(1,21)\n",
    "\n",
    "bal_rf = BalancedRandomForestClassifier(random_state=87,n_jobs=-1)\n",
    "n_estimators = range(50,201,50)\n",
    "depth_range= range(1,21)\n",
    "\n",
    "xg = XGBClassifier(random_state=87,n_jobs=-1)\n",
    "lr = np.arange(.1,1.1,.1)\n",
    "\n",
    "ens = EasyEnsembleClassifier(random_state=87,n_jobs=-1)\n",
    "n_estimators2 = range(10,61,10)\n",
    "\n",
    "clf_sc_rus = {}.fromkeys(['knn','bal_rf','xg','ens'])\n",
    "clf_sc_tom = {}.fromkeys(['knn','bal_rf','xg','ens'])\n",
    "clf_sc_nm1 = {}.fromkeys(['knn','bal_rf','xg','ens'])\n",
    "\n",
    "rus = RandomUnderSampler(random_state=87)\n",
    "tom = TomekLinks(random_state=87,n_jobs=-1)\n",
    "nm1 = NearMiss(random_state=87,version=1,n_jobs=-1)\n",
    "\n",
    "clf_sc_rus['knn'] = {'sampler':rus,'classifier':knn,'params':{'kneighborsclassifier__n_neighbors':k_range, 'kneighborsclassifier__weights':['uniform','distance']}}\n",
    "clf_sc_rus['bal_rf'] = {'sampler':rus,'classifier':bal_rf,'params':{'balancedrandomforestclassifier__max_depth':depth_range,'balancedrandomforestclassifier__n_estimators':n_estimators}}\n",
    "clf_sc_rus['xg'] = {'sampler':rus,'classifier':xg,'params':{'xgbclassifier__max_depth':depth_range, 'xgbclassifier__learning_rate':lr}}\n",
    "clf_sc_rus['ens'] = {'sampler':rus,'classifier':ens,'params':{'easyensembleclassifier__n_estimators':n_estimators2}}\n",
    "for model in clf_sc_rus:\n",
    "    pipe = make_pipeline(sc,clf_sc_rus[model]['sampler'],clf_sc_rus[model]['classifier'])\n",
    "    \n",
    "    rand = RandomizedSearchCV(pipe,clf_sc_rus[model]['params'],cv=gkf.split(X_tr.to_numpy(),y_tr.to_numpy(),groups[tr]),n_iter=20,scoring='precision',random_state=87)\n",
    "    rand.fit(X_tr.to_numpy(),y_tr.to_numpy())\n",
    "    \n",
    "    clf_sc_rus[model].update({'best_score_':rand.best_score_,'best_estimator_':rand.best_estimator_})\n",
    "\n",
    "    \n",
    "clf_sc_tom['knn'] = {'sampler':[tom,rus],'classifier':knn,'params':{'kneighborsclassifier__n_neighbors':k_range, 'kneighborsclassifier__weights':['uniform','distance']}}\n",
    "clf_sc_tom['bal_rf'] = {'sampler':[tom,rus],'classifier':bal_rf,'params':{'balancedrandomforestclassifier__max_depth':depth_range,'balancedrandomforestclassifier__n_estimators':n_estimators}}\n",
    "clf_sc_tom['xg'] = {'sampler':[tom,rus],'classifier':xg,'params':{'xgbclassifier__max_depth':depth_range, 'xgbclassifier__learning_rate':lr}}\n",
    "clf_sc_tom['ens'] = {'sampler':[tom,rus],'classifier':ens,'params':{'easyensembleclassifier__n_estimators':n_estimators2}}\n",
    "for model in clf_sc_tom:\n",
    "    pipe = make_pipeline(sc,clf_sc_tom[model]['sampler'][0],clf_sc_tom[model]['sampler'][1],clf_sc_tom[model]['classifier'])\n",
    "    \n",
    "    rand = RandomizedSearchCV(pipe,clf_sc_tom[model]['params'],cv=gkf.split(X_tr.to_numpy(),y_tr.to_numpy(),groups[tr]),n_iter=20,scoring='precision',random_state=87)\n",
    "    rand.fit(X_tr.to_numpy(),y_tr.to_numpy())\n",
    "    \n",
    "    clf_sc_tom[model].update({'best_score_':rand.best_score_,'best_estimator_':rand.best_estimator_})\n",
    "\n",
    "\n",
    "clf_sc_nm1['knn'] = {'sampler':nm1,'classifier':knn,'params':{'kneighborsclassifier__n_neighbors':k_range, 'kneighborsclassifier__weights':['uniform','distance']}}\n",
    "clf_sc_nm1['bal_rf'] = {'sampler':nm1,'classifier':bal_rf,'params':{'balancedrandomforestclassifier__max_depth':depth_range,'balancedrandomforestclassifier__n_estimators':n_estimators}}\n",
    "clf_sc_nm1['xg'] = {'sampler':nm1,'classifier':xg,'params':{'xgbclassifier__max_depth':depth_range, 'xgbclassifier__learning_rate':lr}}\n",
    "clf_sc_nm1['ens'] = {'sampler':nm1,'classifier':ens,'params':{'easyensembleclassifier__n_estimators':n_estimators2}}\n",
    "for model in clf_sc_nm1:\n",
    "    pipe = make_pipeline(sc,clf_sc_nm1[model]['sampler'],clf_sc_nm1[model]['classifier'])\n",
    "    \n",
    "    rand = RandomizedSearchCV(pipe,clf_sc_nm1[model]['params'],cv=gkf.split(X_tr.to_numpy(),y_tr.to_numpy(),groups[tr]),n_iter=20,scoring='precision',random_state=87)\n",
    "    rand.fit(X_tr.to_numpy(),y_tr.to_numpy())\n",
    "    \n",
    "    clf_sc_nm1[model].update({'best_score_':rand.best_score_,'best_estimator_':rand.best_estimator_})\n"
   ]
  },
  {
   "cell_type": "markdown",
   "id": "eba64fa7-48ff-4990-8fef-e60a88e86caa",
   "metadata": {},
   "source": [
    "Originally had just tried the StandardScaler and RandomUnderSampler, but subsequent trials of other undersamplers (above) and later, other scalers, showed slight improvements in the best score."
   ]
  },
  {
   "cell_type": "code",
   "execution_count": 16,
   "id": "f6d0a428-ca8f-48ed-a5ca-c3493310054a",
   "metadata": {},
   "outputs": [
    {
     "name": "stdout",
     "output_type": "stream",
     "text": [
      "knn <class 'imblearn.under_sampling._prototype_selection._random_under_sampler.RandomUnderSampler'> 0.8328379814654582\n",
      "bal_rf <class 'imblearn.under_sampling._prototype_selection._random_under_sampler.RandomUnderSampler'> 0.8033866618596532\n",
      "xg <class 'imblearn.under_sampling._prototype_selection._random_under_sampler.RandomUnderSampler'> 0.8006467015331991\n",
      "ens <class 'imblearn.under_sampling._prototype_selection._random_under_sampler.RandomUnderSampler'> 0.7920955149307556\n",
      "knn <class 'list'> 0.815145658561987\n",
      "bal_rf <class 'list'> 0.7918398026300881\n",
      "xg <class 'list'> 0.7897039035437357\n",
      "ens <class 'list'> 0.7769981767601604\n",
      "knn <class 'imblearn.under_sampling._prototype_selection._nearmiss.NearMiss'> 0.8604478658112913\n",
      "bal_rf <class 'imblearn.under_sampling._prototype_selection._nearmiss.NearMiss'> 0.8398423822372375\n",
      "xg <class 'imblearn.under_sampling._prototype_selection._nearmiss.NearMiss'> 0.8564177838084595\n",
      "ens <class 'imblearn.under_sampling._prototype_selection._nearmiss.NearMiss'> 0.7929632983269554\n"
     ]
    }
   ],
   "source": [
    "for clf in [clf_sc_rus,clf_sc_tom,clf_sc_nm1]:\n",
    "    for model in clf:\n",
    "        print(model,clf[model]['sampler'].__class__,clf[model]['best_score_'])"
   ]
  },
  {
   "cell_type": "markdown",
   "id": "0588e07b-c216-4440-ba44-42ba693bd22c",
   "metadata": {},
   "source": [
    "I reran the cells above swapping out StandardScaler for MinMaxScaler, MaxAbsScaler, and PowerTransformer, changing the variable names accordingly."
   ]
  },
  {
   "cell_type": "code",
   "execution_count": 18,
   "id": "7b46e2f7-036c-4c04-878e-31eb6d5d9a82",
   "metadata": {},
   "outputs": [
    {
     "name": "stderr",
     "output_type": "stream",
     "text": [
      "/Users/nicolegreen/anaconda3/envs/metis/lib/python3.7/site-packages/sklearn/model_selection/_search.py:266: UserWarning: The total space of parameters 6 is smaller than n_iter=20. Running 6 iterations. For exhaustive searches, use GridSearchCV.\n",
      "  % (grid_size, self.n_iter, grid_size), UserWarning)\n",
      "/Users/nicolegreen/anaconda3/envs/metis/lib/python3.7/site-packages/sklearn/model_selection/_search.py:266: UserWarning: The total space of parameters 6 is smaller than n_iter=20. Running 6 iterations. For exhaustive searches, use GridSearchCV.\n",
      "  % (grid_size, self.n_iter, grid_size), UserWarning)\n",
      "/Users/nicolegreen/anaconda3/envs/metis/lib/python3.7/site-packages/sklearn/model_selection/_search.py:266: UserWarning: The total space of parameters 6 is smaller than n_iter=20. Running 6 iterations. For exhaustive searches, use GridSearchCV.\n",
      "  % (grid_size, self.n_iter, grid_size), UserWarning)\n"
     ]
    }
   ],
   "source": [
    "knn = KNeighborsClassifier(n_jobs=-1)\n",
    "k_range = range(1,21)\n",
    "\n",
    "bal_rf = BalancedRandomForestClassifier(random_state=87,n_jobs=-1)\n",
    "n_estimators = range(50,201,50)\n",
    "depth_range= range(1,21)\n",
    "\n",
    "xg = XGBClassifier(random_state=87,n_jobs=-1)\n",
    "lr = np.arange(.1,1.1,.1)\n",
    "\n",
    "ens = EasyEnsembleClassifier(random_state=87,n_jobs=-1)\n",
    "n_estimators2 = range(10,61,10)\n",
    "\n",
    "clf_ptsc_rus = {}.fromkeys(['knn','bal_rf','xg','ens'])\n",
    "clf_ptsc_tom = {}.fromkeys(['knn','bal_rf','xg','ens'])\n",
    "clf_ptsc_nm1 = {}.fromkeys(['knn','bal_rf','xg','ens'])\n",
    "\n",
    "rus = RandomUnderSampler(random_state=87)\n",
    "tom = TomekLinks(random_state=87,n_jobs=-1)\n",
    "nm1 = NearMiss(random_state=87,version=1,n_jobs=-1)\n",
    "\n",
    "clf_ptsc_rus['knn'] = {'sampler':rus,'classifier':knn,'params':{'kneighborsclassifier__n_neighbors':k_range, 'kneighborsclassifier__weights':['uniform','distance']}}\n",
    "clf_ptsc_rus['bal_rf'] = {'sampler':rus,'classifier':bal_rf,'params':{'balancedrandomforestclassifier__max_depth':depth_range,'balancedrandomforestclassifier__n_estimators':n_estimators}}\n",
    "clf_ptsc_rus['xg'] = {'sampler':rus,'classifier':xg,'params':{'xgbclassifier__max_depth':depth_range, 'xgbclassifier__learning_rate':lr}}\n",
    "clf_ptsc_rus['ens'] = {'sampler':rus,'classifier':ens,'params':{'easyensembleclassifier__n_estimators':n_estimators2}}\n",
    "for model in clf_ptsc_rus:\n",
    "    pipe = make_pipeline(pt,clf_ptsc_rus[model]['sampler'],clf_ptsc_rus[model]['classifier'])\n",
    "\n",
    "    rand = RandomizedSearchCV(pipe,clf_ptsc_rus[model]['params'],cv=gkf.split(X_tr.to_numpy(),y_tr.to_numpy(),groups[tr]),n_iter=20,scoring='precision',random_state=87)\n",
    "    rand.fit(X_tr.to_numpy(),y_tr.to_numpy())\n",
    "    \n",
    "    clf_ptsc_rus[model].update({'best_score_':rand.best_score_,'best_estimator_':rand.best_estimator_})\n",
    "\n",
    "    \n",
    "clf_ptsc_tom['knn'] = {'sampler':[tom,rus],'classifier':knn,'params':{'kneighborsclassifier__n_neighbors':k_range, 'kneighborsclassifier__weights':['uniform','distance']}}\n",
    "clf_ptsc_tom['bal_rf'] = {'sampler':[tom,rus],'classifier':bal_rf,'params':{'balancedrandomforestclassifier__max_depth':depth_range,'balancedrandomforestclassifier__n_estimators':n_estimators}}\n",
    "clf_ptsc_tom['xg'] = {'sampler':[tom,rus],'classifier':xg,'params':{'xgbclassifier__max_depth':depth_range, 'xgbclassifier__learning_rate':lr}}\n",
    "clf_ptsc_tom['ens'] = {'sampler':[tom,rus],'classifier':ens,'params':{'easyensembleclassifier__n_estimators':n_estimators2}}\n",
    "for model in clf_ptsc_tom:\n",
    "    pipe = make_pipeline(pt,clf_ptsc_tom[model]['sampler'][0],clf_ptsc_tom[model]['sampler'][1],clf_ptsc_tom[model]['classifier'])\n",
    "    \n",
    "    rand = RandomizedSearchCV(pipe,clf_ptsc_tom[model]['params'],cv=gkf.split(X_tr.to_numpy(),y_tr.to_numpy(),groups[tr]),n_iter=20,scoring='precision',random_state=87)\n",
    "    rand.fit(X_tr.to_numpy(),y_tr.to_numpy())\n",
    "    \n",
    "    clf_ptsc_tom[model].update({'best_score_':rand.best_score_,'best_estimator_':rand.best_estimator_})\n",
    "\n",
    "\n",
    "clf_ptsc_nm1['knn'] = {'sampler':nm1,'classifier':knn,'params':{'kneighborsclassifier__n_neighbors':k_range, 'kneighborsclassifier__weights':['uniform','distance']}}\n",
    "clf_ptsc_nm1['bal_rf'] = {'sampler':nm1,'classifier':bal_rf,'params':{'balancedrandomforestclassifier__max_depth':depth_range,'balancedrandomforestclassifier__n_estimators':n_estimators}}\n",
    "clf_ptsc_nm1['xg'] = {'sampler':nm1,'classifier':xg,'params':{'xgbclassifier__max_depth':depth_range, 'xgbclassifier__learning_rate':lr}}\n",
    "clf_ptsc_nm1['ens'] = {'sampler':nm1,'classifier':ens,'params':{'easyensembleclassifier__n_estimators':n_estimators2}}\n",
    "for model in clf_ptsc_nm1:\n",
    "    pipe = make_pipeline(pt,clf_ptsc_nm1[model]['sampler'],clf_ptsc_nm1[model]['classifier'])\n",
    "\n",
    "    rand = RandomizedSearchCV(pipe,clf_ptsc_nm1[model]['params'],cv=gkf.split(X_tr.to_numpy(),y_tr.to_numpy(),groups[tr]),n_iter=20,scoring='precision',random_state=87)\n",
    "    rand.fit(X_tr.to_numpy(),y_tr.to_numpy())\n",
    "    \n",
    "    clf_ptsc_nm1[model].update({'best_score_':rand.best_score_,'best_estimator_':rand.best_estimator_})\n",
    "    "
   ]
  },
  {
   "cell_type": "code",
   "execution_count": 20,
   "id": "c87c3598-1bcf-464b-92e7-2586b88dc2f6",
   "metadata": {
    "tags": []
   },
   "outputs": [
    {
     "name": "stderr",
     "output_type": "stream",
     "text": [
      "/Users/nicolegreen/anaconda3/envs/metis/lib/python3.7/site-packages/joblib/externals/loky/process_executor.py:706: UserWarning: A worker stopped while some jobs were given to the executor. This can be caused by a too short worker timeout or by a memory leak.\n",
      "  \"timeout or by a memory leak.\", UserWarning\n",
      "/Users/nicolegreen/anaconda3/envs/metis/lib/python3.7/site-packages/sklearn/model_selection/_search.py:266: UserWarning: The total space of parameters 6 is smaller than n_iter=20. Running 6 iterations. For exhaustive searches, use GridSearchCV.\n",
      "  % (grid_size, self.n_iter, grid_size), UserWarning)\n",
      "/Users/nicolegreen/anaconda3/envs/metis/lib/python3.7/site-packages/sklearn/model_selection/_search.py:266: UserWarning: The total space of parameters 6 is smaller than n_iter=20. Running 6 iterations. For exhaustive searches, use GridSearchCV.\n",
      "  % (grid_size, self.n_iter, grid_size), UserWarning)\n",
      "/Users/nicolegreen/anaconda3/envs/metis/lib/python3.7/site-packages/sklearn/model_selection/_search.py:266: UserWarning: The total space of parameters 6 is smaller than n_iter=20. Running 6 iterations. For exhaustive searches, use GridSearchCV.\n",
      "  % (grid_size, self.n_iter, grid_size), UserWarning)\n"
     ]
    }
   ],
   "source": [
    "knn = KNeighborsClassifier(n_jobs=-1)\n",
    "k_range = range(1,21)\n",
    "\n",
    "bal_rf = BalancedRandomForestClassifier(random_state=87,n_jobs=-1)\n",
    "n_estimators = range(50,201,50)\n",
    "depth_range= range(1,21)\n",
    "\n",
    "xg = XGBClassifier(random_state=87,n_jobs=-1)\n",
    "lr = np.arange(.1,1.1,.1)\n",
    "\n",
    "ens = EasyEnsembleClassifier(random_state=87,n_jobs=-1)\n",
    "n_estimators2 = range(10,61,10)\n",
    "\n",
    "clf_minmaxsc_rus = {}.fromkeys(['knn','bal_rf','xg','ens'])\n",
    "clf_minmaxsc_tom = {}.fromkeys(['knn','bal_rf','xg','ens'])\n",
    "clf_minmaxsc_nm1 = {}.fromkeys(['knn','bal_rf','xg','ens'])\n",
    "\n",
    "rus = RandomUnderSampler(random_state=87)\n",
    "tom = TomekLinks(random_state=87,n_jobs=-1)\n",
    "nm1 = NearMiss(random_state=87,version=1,n_jobs=-1)\n",
    "\n",
    "clf_minmaxsc_rus['knn'] = {'sampler':rus,'classifier':knn,'params':{'kneighborsclassifier__n_neighbors':k_range, 'kneighborsclassifier__weights':['uniform','distance']}}\n",
    "clf_minmaxsc_rus['bal_rf'] = {'sampler':rus,'classifier':bal_rf,'params':{'balancedrandomforestclassifier__max_depth':depth_range,'balancedrandomforestclassifier__n_estimators':n_estimators}}\n",
    "clf_minmaxsc_rus['xg'] = {'sampler':rus,'classifier':xg,'params':{'xgbclassifier__max_depth':depth_range, 'xgbclassifier__learning_rate':lr}}\n",
    "clf_minmaxsc_rus['ens'] = {'sampler':rus,'classifier':ens,'params':{'easyensembleclassifier__n_estimators':n_estimators2}}\n",
    "for model in clf_minmaxsc_rus:\n",
    "    pipe = make_pipeline(minmaxsc,clf_minmaxsc_rus[model]['sampler'],clf_minmaxsc_rus[model]['classifier'])\n",
    "\n",
    "    rand = RandomizedSearchCV(pipe,clf_minmaxsc_rus[model]['params'],cv=gkf.split(X_tr.to_numpy(),y_tr.to_numpy(),groups[tr]),n_iter=20,scoring='precision',random_state=87)\n",
    "    rand.fit(X_tr.to_numpy(),y_tr.to_numpy())\n",
    "    \n",
    "    clf_minmaxsc_rus[model].update({'best_score_':rand.best_score_,'best_estimator_':rand.best_estimator_})\n",
    "\n",
    "    \n",
    "clf_minmaxsc_tom['knn'] = {'sampler':[tom,rus],'classifier':knn,'params':{'kneighborsclassifier__n_neighbors':k_range, 'kneighborsclassifier__weights':['uniform','distance']}}\n",
    "clf_minmaxsc_tom['bal_rf'] = {'sampler':[tom,rus],'classifier':bal_rf,'params':{'balancedrandomforestclassifier__max_depth':depth_range,'balancedrandomforestclassifier__n_estimators':n_estimators}}\n",
    "clf_minmaxsc_tom['xg'] = {'sampler':[tom,rus],'classifier':xg,'params':{'xgbclassifier__max_depth':depth_range, 'xgbclassifier__learning_rate':lr}}\n",
    "clf_minmaxsc_tom['ens'] = {'sampler':[tom,rus],'classifier':ens,'params':{'easyensembleclassifier__n_estimators':n_estimators2}}\n",
    "for model in clf_minmaxsc_tom:\n",
    "    pipe = make_pipeline(minmaxsc,clf_minmaxsc_tom[model]['sampler'][0],clf_minmaxsc_tom[model]['sampler'][1],clf_minmaxsc_tom[model]['classifier'])\n",
    "    \n",
    "    rand = RandomizedSearchCV(pipe,clf_minmaxsc_tom[model]['params'],cv=gkf.split(X_tr.to_numpy(),y_tr.to_numpy(),groups[tr]),n_iter=20,scoring='precision',random_state=87)\n",
    "    rand.fit(X_tr.to_numpy(),y_tr.to_numpy())\n",
    "    \n",
    "    clf_minmaxsc_tom[model].update({'best_score_':rand.best_score_,'best_estimator_':rand.best_estimator_})\n",
    "\n",
    "\n",
    "clf_minmaxsc_nm1['knn'] = {'sampler':nm1,'classifier':knn,'params':{'kneighborsclassifier__n_neighbors':k_range, 'kneighborsclassifier__weights':['uniform','distance']}}\n",
    "clf_minmaxsc_nm1['bal_rf'] = {'sampler':nm1,'classifier':bal_rf,'params':{'balancedrandomforestclassifier__max_depth':depth_range,'balancedrandomforestclassifier__n_estimators':n_estimators}}\n",
    "clf_minmaxsc_nm1['xg'] = {'sampler':nm1,'classifier':xg,'params':{'xgbclassifier__max_depth':depth_range, 'xgbclassifier__learning_rate':lr}}\n",
    "clf_minmaxsc_nm1['ens'] = {'sampler':nm1,'classifier':ens,'params':{'easyensembleclassifier__n_estimators':n_estimators2}}\n",
    "for model in clf_minmaxsc_nm1:\n",
    "    pipe = make_pipeline(minmaxsc,clf_minmaxsc_nm1[model]['sampler'],clf_minmaxsc_nm1[model]['classifier'])\n",
    "\n",
    "    rand = RandomizedSearchCV(pipe,clf_minmaxsc_nm1[model]['params'],cv=gkf.split(X_tr.to_numpy(),y_tr.to_numpy(),groups[tr]),n_iter=20,scoring='precision',random_state=87)\n",
    "    rand.fit(X_tr.to_numpy(),y_tr.to_numpy())\n",
    "    \n",
    "    clf_minmaxsc_nm1[model].update({'best_score_':rand.best_score_,'best_estimator_':rand.best_estimator_})\n",
    "    "
   ]
  },
  {
   "cell_type": "code",
   "execution_count": 21,
   "id": "24c7ad0f-2744-4913-b925-254d50d477c3",
   "metadata": {},
   "outputs": [
    {
     "name": "stderr",
     "output_type": "stream",
     "text": [
      "/Users/nicolegreen/anaconda3/envs/metis/lib/python3.7/site-packages/sklearn/model_selection/_search.py:266: UserWarning: The total space of parameters 6 is smaller than n_iter=20. Running 6 iterations. For exhaustive searches, use GridSearchCV.\n",
      "  % (grid_size, self.n_iter, grid_size), UserWarning)\n",
      "/Users/nicolegreen/anaconda3/envs/metis/lib/python3.7/site-packages/sklearn/model_selection/_search.py:266: UserWarning: The total space of parameters 6 is smaller than n_iter=20. Running 6 iterations. For exhaustive searches, use GridSearchCV.\n",
      "  % (grid_size, self.n_iter, grid_size), UserWarning)\n",
      "/Users/nicolegreen/anaconda3/envs/metis/lib/python3.7/site-packages/sklearn/model_selection/_search.py:266: UserWarning: The total space of parameters 6 is smaller than n_iter=20. Running 6 iterations. For exhaustive searches, use GridSearchCV.\n",
      "  % (grid_size, self.n_iter, grid_size), UserWarning)\n"
     ]
    }
   ],
   "source": [
    "knn = KNeighborsClassifier(n_jobs=-1)\n",
    "k_range = range(1,21)\n",
    "\n",
    "bal_rf = BalancedRandomForestClassifier(random_state=87,n_jobs=-1)\n",
    "n_estimators = range(50,201,50)\n",
    "depth_range= range(1,21)\n",
    "\n",
    "xg = XGBClassifier(random_state=87,n_jobs=-1)\n",
    "lr = np.arange(.1,1.1,.1)\n",
    "\n",
    "ens = EasyEnsembleClassifier(random_state=87,n_jobs=-1)\n",
    "n_estimators2 = range(10,61,10)\n",
    "\n",
    "clf_maxabssc_rus = {}.fromkeys(['knn','bal_rf','xg','ens'])\n",
    "clf_maxabssc_tom = {}.fromkeys(['knn','bal_rf','xg','ens'])\n",
    "clf_maxabssc_nm1 = {}.fromkeys(['knn','bal_rf','xg','ens'])\n",
    "\n",
    "rus = RandomUnderSampler(random_state=87)\n",
    "tom = TomekLinks(random_state=87,n_jobs=-1)\n",
    "nm1 = NearMiss(random_state=87,version=1,n_jobs=-1)\n",
    "\n",
    "clf_maxabssc_rus['knn'] = {'sampler':rus,'classifier':knn,'params':{'kneighborsclassifier__n_neighbors':k_range, 'kneighborsclassifier__weights':['uniform','distance']}}\n",
    "clf_maxabssc_rus['bal_rf'] = {'sampler':rus,'classifier':bal_rf,'params':{'balancedrandomforestclassifier__max_depth':depth_range,'balancedrandomforestclassifier__n_estimators':n_estimators}}\n",
    "clf_maxabssc_rus['xg'] = {'sampler':rus,'classifier':xg,'params':{'xgbclassifier__max_depth':depth_range, 'xgbclassifier__learning_rate':lr}}\n",
    "clf_maxabssc_rus['ens'] = {'sampler':rus,'classifier':ens,'params':{'easyensembleclassifier__n_estimators':n_estimators2}}\n",
    "for model in clf_maxabssc_rus:\n",
    "    pipe = make_pipeline(maxabssc,clf_maxabssc_rus[model]['sampler'],clf_maxabssc_rus[model]['classifier'])\n",
    "\n",
    "    rand = RandomizedSearchCV(pipe,clf_maxabssc_rus[model]['params'],cv=gkf.split(X_tr.to_numpy(),y_tr.to_numpy(),groups[tr]),n_iter=20,scoring='precision',random_state=87)\n",
    "    rand.fit(X_tr.to_numpy(),y_tr.to_numpy())\n",
    "    \n",
    "    clf_maxabssc_rus[model].update({'best_score_':rand.best_score_,'best_estimator_':rand.best_estimator_})\n",
    "\n",
    "    \n",
    "clf_maxabssc_tom['knn'] = {'sampler':[tom,rus],'classifier':knn,'params':{'kneighborsclassifier__n_neighbors':k_range, 'kneighborsclassifier__weights':['uniform','distance']}}\n",
    "clf_maxabssc_tom['bal_rf'] = {'sampler':[tom,rus],'classifier':bal_rf,'params':{'balancedrandomforestclassifier__max_depth':depth_range,'balancedrandomforestclassifier__n_estimators':n_estimators}}\n",
    "clf_maxabssc_tom['xg'] = {'sampler':[tom,rus],'classifier':xg,'params':{'xgbclassifier__max_depth':depth_range, 'xgbclassifier__learning_rate':lr}}\n",
    "clf_maxabssc_tom['ens'] = {'sampler':[tom,rus],'classifier':ens,'params':{'easyensembleclassifier__n_estimators':n_estimators2}}\n",
    "for model in clf_maxabssc_tom:\n",
    "    pipe = make_pipeline(maxabssc,clf_maxabssc_tom[model]['sampler'][0],clf_maxabssc_tom[model]['sampler'][1],clf_maxabssc_tom[model]['classifier'])\n",
    "    \n",
    "    rand = RandomizedSearchCV(pipe,clf_maxabssc_tom[model]['params'],cv=gkf.split(X_tr.to_numpy(),y_tr.to_numpy(),groups[tr]),n_iter=20,scoring='precision',random_state=87)\n",
    "    rand.fit(X_tr.to_numpy(),y_tr.to_numpy())\n",
    "    \n",
    "    clf_maxabssc_tom[model].update({'best_score_':rand.best_score_,'best_estimator_':rand.best_estimator_})\n",
    "\n",
    "\n",
    "clf_maxabssc_nm1['knn'] = {'sampler':nm1,'classifier':knn,'params':{'kneighborsclassifier__n_neighbors':k_range, 'kneighborsclassifier__weights':['uniform','distance']}}\n",
    "clf_maxabssc_nm1['bal_rf'] = {'sampler':nm1,'classifier':bal_rf,'params':{'balancedrandomforestclassifier__max_depth':depth_range,'balancedrandomforestclassifier__n_estimators':n_estimators}}\n",
    "clf_maxabssc_nm1['xg'] = {'sampler':nm1,'classifier':xg,'params':{'xgbclassifier__max_depth':depth_range, 'xgbclassifier__learning_rate':lr}}\n",
    "clf_maxabssc_nm1['ens'] = {'sampler':nm1,'classifier':ens,'params':{'easyensembleclassifier__n_estimators':n_estimators2}}\n",
    "for model in clf_maxabssc_nm1:\n",
    "    pipe = make_pipeline(maxabssc,clf_maxabssc_nm1[model]['sampler'],clf_maxabssc_nm1[model]['classifier'])\n",
    "\n",
    "    rand = RandomizedSearchCV(pipe,clf_maxabssc_nm1[model]['params'],cv=gkf.split(X_tr.to_numpy(),y_tr.to_numpy(),groups[tr]),n_iter=20,scoring='precision',random_state=87)\n",
    "    rand.fit(X_tr.to_numpy(),y_tr.to_numpy())\n",
    "    \n",
    "    clf_maxabssc_nm1[model].update({'best_score_':rand.best_score_,'best_estimator_':rand.best_estimator_})\n",
    "    "
   ]
  },
  {
   "cell_type": "code",
   "execution_count": 22,
   "id": "a2a19660-1189-4232-9b69-8a10cc1854fc",
   "metadata": {},
   "outputs": [
    {
     "name": "stdout",
     "output_type": "stream",
     "text": [
      "knn <class 'imblearn.under_sampling._prototype_selection._random_under_sampler.RandomUnderSampler'> 0.8335259003949437\n",
      "bal_rf <class 'imblearn.under_sampling._prototype_selection._random_under_sampler.RandomUnderSampler'> 0.8033177431734301\n",
      "xg <class 'imblearn.under_sampling._prototype_selection._random_under_sampler.RandomUnderSampler'> 0.8006255801327231\n",
      "ens <class 'imblearn.under_sampling._prototype_selection._random_under_sampler.RandomUnderSampler'> 0.7920955149307556\n",
      "knn <class 'list'> 0.814951134358527\n",
      "bal_rf <class 'list'> 0.7911027229271882\n",
      "xg <class 'list'> 0.78893578478012\n",
      "ens <class 'list'> 0.7795866070890608\n",
      "knn <class 'imblearn.under_sampling._prototype_selection._nearmiss.NearMiss'> 0.8643358964820917\n",
      "bal_rf <class 'imblearn.under_sampling._prototype_selection._nearmiss.NearMiss'> 0.8387346530469703\n",
      "xg <class 'imblearn.under_sampling._prototype_selection._nearmiss.NearMiss'> 0.8557245735107265\n",
      "ens <class 'imblearn.under_sampling._prototype_selection._nearmiss.NearMiss'> 0.7834298540892459\n"
     ]
    }
   ],
   "source": [
    "for clf in [clf_ptsc_rus,clf_ptsc_tom,clf_ptsc_nm1]:\n",
    "    for model in clf:\n",
    "        print(model,clf[model]['sampler'].__class__,clf[model]['best_score_'])"
   ]
  },
  {
   "cell_type": "code",
   "execution_count": 23,
   "id": "6796860f-ad4d-4ef6-8b8b-afd11fe8df3c",
   "metadata": {},
   "outputs": [
    {
     "name": "stdout",
     "output_type": "stream",
     "text": [
      "knn <class 'imblearn.under_sampling._prototype_selection._random_under_sampler.RandomUnderSampler'> 0.8326473409280403\n",
      "bal_rf <class 'imblearn.under_sampling._prototype_selection._random_under_sampler.RandomUnderSampler'> 0.8028562642114095\n",
      "xg <class 'imblearn.under_sampling._prototype_selection._random_under_sampler.RandomUnderSampler'> 0.8005861133546117\n",
      "ens <class 'imblearn.under_sampling._prototype_selection._random_under_sampler.RandomUnderSampler'> 0.7921069096142851\n",
      "knn <class 'list'> 0.8138993881848761\n",
      "bal_rf <class 'list'> 0.7909168407270168\n",
      "xg <class 'list'> 0.7875998025312401\n",
      "ens <class 'list'> 0.776866694946451\n",
      "knn <class 'imblearn.under_sampling._prototype_selection._nearmiss.NearMiss'> 0.8663050853487181\n",
      "bal_rf <class 'imblearn.under_sampling._prototype_selection._nearmiss.NearMiss'> 0.8414182143257979\n",
      "xg <class 'imblearn.under_sampling._prototype_selection._nearmiss.NearMiss'> 0.8574166037241935\n",
      "ens <class 'imblearn.under_sampling._prototype_selection._nearmiss.NearMiss'> 0.7899431864911244\n"
     ]
    }
   ],
   "source": [
    "for clf in [clf_minmaxsc_rus,clf_minmaxsc_tom,clf_minmaxsc_nm1]:\n",
    "    for model in clf:\n",
    "        print(model,clf[model]['sampler'].__class__,clf[model]['best_score_'])"
   ]
  },
  {
   "cell_type": "code",
   "execution_count": 24,
   "id": "10c82256-1173-4c9a-aba6-4e3efbc2aa9d",
   "metadata": {},
   "outputs": [
    {
     "name": "stdout",
     "output_type": "stream",
     "text": [
      "knn <class 'imblearn.under_sampling._prototype_selection._random_under_sampler.RandomUnderSampler'> 0.8312703564078162\n",
      "bal_rf <class 'imblearn.under_sampling._prototype_selection._random_under_sampler.RandomUnderSampler'> 0.8029125298920314\n",
      "xg <class 'imblearn.under_sampling._prototype_selection._random_under_sampler.RandomUnderSampler'> 0.8007343659264504\n",
      "ens <class 'imblearn.under_sampling._prototype_selection._random_under_sampler.RandomUnderSampler'> 0.7921069096142851\n",
      "knn <class 'list'> 0.8130722552514873\n",
      "bal_rf <class 'list'> 0.790420115692464\n",
      "xg <class 'list'> 0.7880113442754904\n",
      "ens <class 'list'> 0.7770011551446462\n",
      "knn <class 'imblearn.under_sampling._prototype_selection._nearmiss.NearMiss'> 0.8643337362429997\n",
      "bal_rf <class 'imblearn.under_sampling._prototype_selection._nearmiss.NearMiss'> 0.8428591102908098\n",
      "xg <class 'imblearn.under_sampling._prototype_selection._nearmiss.NearMiss'> 0.8473622853587169\n",
      "ens <class 'imblearn.under_sampling._prototype_selection._nearmiss.NearMiss'> 0.8020033100896891\n"
     ]
    }
   ],
   "source": [
    "for clf in [clf_maxabssc_rus,clf_maxabssc_tom,clf_maxabssc_nm1]:\n",
    "    for model in clf:\n",
    "        print(model,clf[model]['sampler'].__class__,clf[model]['best_score_'])"
   ]
  },
  {
   "cell_type": "markdown",
   "id": "3c73cc52-afc1-4721-bc5b-0832923038dc",
   "metadata": {},
   "source": [
    "After all that, the best pipeline was a MinMaxScaler, NearMiss undersampler, and a KNN classifier. I then reran just that classifier but allowed the number of nearest neighbors to vary for the undersampler (previously used the default = 3) along with the k-value for KNN, this time employing the full GridSearchCV."
   ]
  },
  {
   "cell_type": "code",
   "execution_count": 25,
   "id": "c552927f-bd14-4c67-999f-e9ce84a094b3",
   "metadata": {},
   "outputs": [
    {
     "data": {
      "text/plain": [
       "GridSearchCV(cv=<generator object _BaseKFold.split at 0x7fd64bf13950>,\n",
       "             error_score='raise-deprecating',\n",
       "             estimator=Pipeline(memory=None,\n",
       "                                steps=[('minmaxscaler',\n",
       "                                        MinMaxScaler(copy=True,\n",
       "                                                     feature_range=(0, 1))),\n",
       "                                       ('nearmiss',\n",
       "                                        NearMiss(n_jobs=-1, n_neighbors=3,\n",
       "                                                 n_neighbors_ver3=3,\n",
       "                                                 random_state=87, ratio=None,\n",
       "                                                 return_indices=False,\n",
       "                                                 sampling_strategy='auto',\n",
       "                                                 version=1)),\n",
       "                                       ('kn...\n",
       "                                        KNeighborsClassifier(algorithm='auto',\n",
       "                                                             leaf_size=30,\n",
       "                                                             metric='minkowski',\n",
       "                                                             metric_params=None,\n",
       "                                                             n_jobs=-1,\n",
       "                                                             n_neighbors=2, p=2,\n",
       "                                                             weights='uniform'))],\n",
       "                                verbose=False),\n",
       "             iid='warn', n_jobs=-1,\n",
       "             param_grid={'kneighborsclassifier__n_neighbors': range(1, 21),\n",
       "                         'nearmiss__n_neighbors': range(1, 8)},\n",
       "             pre_dispatch='2*n_jobs', refit=True, return_train_score=False,\n",
       "             scoring='precision', verbose=0)"
      ]
     },
     "execution_count": 25,
     "metadata": {},
     "output_type": "execute_result"
    }
   ],
   "source": [
    "grid = GridSearchCV(clf_minmaxsc_nm1['knn']['best_estimator_'],{'nearmiss__n_neighbors':range(1,8),'kneighborsclassifier__n_neighbors':k_range},\n",
    "                   cv=gkf.split(X_tr.to_numpy(),y_tr.to_numpy(),groups[tr]),scoring='precision',n_jobs=-1)\n",
    "grid.fit(X_tr.to_numpy(),y_tr.to_numpy())"
   ]
  },
  {
   "cell_type": "markdown",
   "id": "2f3b4974-f56d-4fae-9ed4-fab6dd3d76f9",
   "metadata": {},
   "source": [
    "Results improved ever so slightly still. So, the best model was a MinMaxScaler, NearMiss(version=1, n_neighbors=1), and KNN(n_neighbors=2)."
   ]
  },
  {
   "cell_type": "code",
   "execution_count": 26,
   "id": "7ebff5d7-1cff-43de-bbf2-28d92b7c99ba",
   "metadata": {
    "tags": []
   },
   "outputs": [
    {
     "data": {
      "text/plain": [
       "0.8747642756929105"
      ]
     },
     "execution_count": 26,
     "metadata": {},
     "output_type": "execute_result"
    }
   ],
   "source": [
    "grid.best_score_"
   ]
  },
  {
   "cell_type": "code",
   "execution_count": 27,
   "id": "80e3db38-6c19-49a3-9481-edee0666085b",
   "metadata": {
    "tags": []
   },
   "outputs": [
    {
     "data": {
      "text/plain": [
       "Pipeline(memory=None,\n",
       "         steps=[('minmaxscaler', MinMaxScaler(copy=True, feature_range=(0, 1))),\n",
       "                ('nearmiss',\n",
       "                 NearMiss(n_jobs=-1, n_neighbors=1, n_neighbors_ver3=3,\n",
       "                          random_state=87, ratio=None, return_indices=False,\n",
       "                          sampling_strategy='auto', version=1)),\n",
       "                ('kneighborsclassifier',\n",
       "                 KNeighborsClassifier(algorithm='auto', leaf_size=30,\n",
       "                                      metric='minkowski', metric_params=None,\n",
       "                                      n_jobs=-1, n_neighbors=2, p=2,\n",
       "                                      weights='uniform'))],\n",
       "         verbose=False)"
      ]
     },
     "execution_count": 27,
     "metadata": {},
     "output_type": "execute_result"
    }
   ],
   "source": [
    "knn_all_feat = grid.best_estimator_\n",
    "grid.best_estimator_"
   ]
  },
  {
   "cell_type": "code",
   "execution_count": 102,
   "id": "62a1e31f-d61f-4a0a-b5a0-005cb7aacf72",
   "metadata": {
    "tags": []
   },
   "outputs": [],
   "source": [
    "from sklearn.metrics import precision_score, confusion_matrix, accuracy_score"
   ]
  },
  {
   "cell_type": "markdown",
   "id": "d1778da9-ab37-49b6-b479-523433dd3046",
   "metadata": {},
   "source": [
    "Now, calculate the precision of the test data."
   ]
  },
  {
   "cell_type": "code",
   "execution_count": 29,
   "id": "0a508dbf-ed47-4bea-a255-0e22a4405749",
   "metadata": {},
   "outputs": [
    {
     "data": {
      "text/plain": [
       "0.8743238943684378"
      ]
     },
     "execution_count": 29,
     "metadata": {},
     "output_type": "execute_result"
    }
   ],
   "source": [
    "precision_score(y_te.to_numpy(),knn_all_feat.predict(X_te.to_numpy()))"
   ]
  },
  {
   "cell_type": "markdown",
   "id": "ae6dda3f-4480-434e-97c9-e771ac83d99b",
   "metadata": {},
   "source": [
    "Use the confusion_matrix() function to look at real numbers of true positives, false positives, true negatives, and false negatives."
   ]
  },
  {
   "cell_type": "code",
   "execution_count": 30,
   "id": "d3de5968-8abc-4dcd-ae0a-0b8e08d099fb",
   "metadata": {},
   "outputs": [],
   "source": [
    "def make_confusion_matrix(x,y,classifier):\n",
    "    cm = confusion_matrix(y,classifier.predict(x))\n",
    "    cm_v = pd.MultiIndex.from_product([['predicted'],[False,True]],)\n",
    "    cm_h = pd.MultiIndex.from_product([['actual'],[False,True]],)\n",
    "    cm = pd.DataFrame(data=cm, index=cm_h,columns=cm_v)\n",
    "    return cm"
   ]
  },
  {
   "cell_type": "code",
   "execution_count": 31,
   "id": "976b1747-e12e-4d42-9c62-75f59afbd7d3",
   "metadata": {},
   "outputs": [
    {
     "data": {
      "text/html": [
       "<div>\n",
       "<style scoped>\n",
       "    .dataframe tbody tr th:only-of-type {\n",
       "        vertical-align: middle;\n",
       "    }\n",
       "\n",
       "    .dataframe tbody tr th {\n",
       "        vertical-align: top;\n",
       "    }\n",
       "\n",
       "    .dataframe thead tr th {\n",
       "        text-align: left;\n",
       "    }\n",
       "</style>\n",
       "<table border=\"1\" class=\"dataframe\">\n",
       "  <thead>\n",
       "    <tr>\n",
       "      <th></th>\n",
       "      <th></th>\n",
       "      <th colspan=\"2\" halign=\"left\">predicted</th>\n",
       "    </tr>\n",
       "    <tr>\n",
       "      <th></th>\n",
       "      <th></th>\n",
       "      <th>False</th>\n",
       "      <th>True</th>\n",
       "    </tr>\n",
       "  </thead>\n",
       "  <tbody>\n",
       "    <tr>\n",
       "      <th rowspan=\"2\" valign=\"top\">actual</th>\n",
       "      <th>False</th>\n",
       "      <td>8186</td>\n",
       "      <td>395</td>\n",
       "    </tr>\n",
       "    <tr>\n",
       "      <th>True</th>\n",
       "      <td>1173</td>\n",
       "      <td>2748</td>\n",
       "    </tr>\n",
       "  </tbody>\n",
       "</table>\n",
       "</div>"
      ],
      "text/plain": [
       "             predicted      \n",
       "                 False True \n",
       "actual False      8186   395\n",
       "       True       1173  2748"
      ]
     },
     "execution_count": 31,
     "metadata": {},
     "output_type": "execute_result"
    }
   ],
   "source": [
    "make_confusion_matrix(X_te.to_numpy(),y_te.to_numpy(),knn_all_feat)\n"
   ]
  },
  {
   "cell_type": "markdown",
   "id": "fb94ef80-e460-4f41-b16f-0cc7b991141f",
   "metadata": {},
   "source": [
    "#### Using pitch location data only"
   ]
  },
  {
   "cell_type": "markdown",
   "id": "0c15cb9d-bc70-43dd-b081-8707da849088",
   "metadata": {},
   "source": [
    "But are all those additional features necessary? Shouldn't the called strike probability be dependent only on pitch location?"
   ]
  },
  {
   "cell_type": "code",
   "execution_count": 32,
   "id": "952e0b71-ee6e-4485-a145-723bf89a96ed",
   "metadata": {},
   "outputs": [],
   "source": [
    "X = bb[['PlateHeight','PlateSide']]\n",
    "y = bb.CalledStrike\n"
   ]
  },
  {
   "cell_type": "markdown",
   "id": "d434b89c-48ae-4ed9-b8e9-2f587ba98487",
   "metadata": {},
   "source": [
    "Repeat the analysis from above but limited to just these two features."
   ]
  },
  {
   "cell_type": "code",
   "execution_count": 33,
   "id": "1f48202d-71fa-4b5b-90ed-a133503fa272",
   "metadata": {},
   "outputs": [],
   "source": [
    "for tr,te in gkf.split(X,y,groups):\n",
    "    X_tr,X_te = X.iloc[tr],X.iloc[te]\n",
    "    y_tr,y_te = y.iloc[tr],y.iloc[te]\n",
    "    break\n",
    "\n",
    "# X_tr,X_te,y_tr,y_te = train_test_split(X,y,test_size=0.2,random_state=87)"
   ]
  },
  {
   "cell_type": "code",
   "execution_count": 35,
   "id": "635d49bd-9cc7-4838-838c-462014caeff5",
   "metadata": {},
   "outputs": [
    {
     "name": "stderr",
     "output_type": "stream",
     "text": [
      "/Users/nicolegreen/anaconda3/envs/metis/lib/python3.7/site-packages/joblib/externals/loky/process_executor.py:706: UserWarning: A worker stopped while some jobs were given to the executor. This can be caused by a too short worker timeout or by a memory leak.\n",
      "  \"timeout or by a memory leak.\", UserWarning\n",
      "/Users/nicolegreen/anaconda3/envs/metis/lib/python3.7/site-packages/sklearn/model_selection/_search.py:266: UserWarning: The total space of parameters 6 is smaller than n_iter=20. Running 6 iterations. For exhaustive searches, use GridSearchCV.\n",
      "  % (grid_size, self.n_iter, grid_size), UserWarning)\n",
      "/Users/nicolegreen/anaconda3/envs/metis/lib/python3.7/site-packages/sklearn/model_selection/_search.py:266: UserWarning: The total space of parameters 6 is smaller than n_iter=20. Running 6 iterations. For exhaustive searches, use GridSearchCV.\n",
      "  % (grid_size, self.n_iter, grid_size), UserWarning)\n",
      "/Users/nicolegreen/anaconda3/envs/metis/lib/python3.7/site-packages/sklearn/model_selection/_search.py:266: UserWarning: The total space of parameters 6 is smaller than n_iter=20. Running 6 iterations. For exhaustive searches, use GridSearchCV.\n",
      "  % (grid_size, self.n_iter, grid_size), UserWarning)\n"
     ]
    }
   ],
   "source": [
    "knn = KNeighborsClassifier(n_jobs=-1)\n",
    "k_range = range(1,21)\n",
    "\n",
    "bal_rf = BalancedRandomForestClassifier(random_state=87,n_jobs=-1)\n",
    "n_estimators = range(50,201,50)\n",
    "depth_range= range(1,21)\n",
    "\n",
    "xg = XGBClassifier(random_state=87,n_jobs=-1)\n",
    "lr = np.arange(.1,1.1,.1)\n",
    "\n",
    "ens = EasyEnsembleClassifier(random_state=87,n_jobs=-1)\n",
    "n_estimators2 = range(10,61,10)\n",
    "\n",
    "clf_sc_rus = {}.fromkeys(['knn','bal_rf','xg','ens'])\n",
    "clf_sc_tom = {}.fromkeys(['knn','bal_rf','xg','ens'])\n",
    "clf_sc_nm1 = {}.fromkeys(['knn','bal_rf','xg','ens'])\n",
    "\n",
    "rus = RandomUnderSampler(random_state=87)\n",
    "tom = TomekLinks(random_state=87,n_jobs=-1)\n",
    "nm1 = NearMiss(random_state=87,version=1,n_jobs=-1)\n",
    "\n",
    "clf_sc_rus['knn'] = {'sampler':rus,'classifier':knn,'params':{'kneighborsclassifier__n_neighbors':k_range, 'kneighborsclassifier__weights':['uniform','distance']}}\n",
    "clf_sc_rus['bal_rf'] = {'sampler':rus,'classifier':bal_rf,'params':{'balancedrandomforestclassifier__max_depth':depth_range,'balancedrandomforestclassifier__n_estimators':n_estimators}}\n",
    "clf_sc_rus['xg'] = {'sampler':rus,'classifier':xg,'params':{'xgbclassifier__max_depth':depth_range, 'xgbclassifier__learning_rate':lr}}\n",
    "clf_sc_rus['ens'] = {'sampler':rus,'classifier':ens,'params':{'easyensembleclassifier__n_estimators':n_estimators2}}\n",
    "for model in clf_sc_rus:\n",
    "    pipe = make_pipeline(sc,clf_sc_rus[model]['sampler'],clf_sc_rus[model]['classifier'])\n",
    "    \n",
    "    rand = RandomizedSearchCV(pipe,clf_sc_rus[model]['params'],cv=gkf.split(X_tr.to_numpy(),y_tr.to_numpy(),groups[tr]),n_iter=20,scoring='precision',random_state=87)\n",
    "    rand.fit(X_tr.to_numpy(),y_tr.to_numpy())\n",
    "    \n",
    "    clf_sc_rus[model].update({'best_score_':rand.best_score_,'best_estimator_':rand.best_estimator_})\n",
    "\n",
    "    \n",
    "clf_sc_tom['knn'] = {'sampler':[tom,rus],'classifier':knn,'params':{'kneighborsclassifier__n_neighbors':k_range, 'kneighborsclassifier__weights':['uniform','distance']}}\n",
    "clf_sc_tom['bal_rf'] = {'sampler':[tom,rus],'classifier':bal_rf,'params':{'balancedrandomforestclassifier__max_depth':depth_range,'balancedrandomforestclassifier__n_estimators':n_estimators}}\n",
    "clf_sc_tom['xg'] = {'sampler':[tom,rus],'classifier':xg,'params':{'xgbclassifier__max_depth':depth_range, 'xgbclassifier__learning_rate':lr}}\n",
    "clf_sc_tom['ens'] = {'sampler':[tom,rus],'classifier':ens,'params':{'easyensembleclassifier__n_estimators':n_estimators2}}\n",
    "for model in clf_sc_tom:\n",
    "    pipe = make_pipeline(sc,clf_sc_tom[model]['sampler'][0],clf_sc_tom[model]['sampler'][1],clf_sc_tom[model]['classifier'])\n",
    "    \n",
    "    rand = RandomizedSearchCV(pipe,clf_sc_tom[model]['params'],cv=gkf.split(X_tr.to_numpy(),y_tr.to_numpy(),groups[tr]),n_iter=20,scoring='precision',random_state=87)\n",
    "    rand.fit(X_tr.to_numpy(),y_tr.to_numpy())\n",
    "    \n",
    "    clf_sc_tom[model].update({'best_score_':rand.best_score_,'best_estimator_':rand.best_estimator_})\n",
    "\n",
    "\n",
    "clf_sc_nm1['knn'] = {'sampler':nm1,'classifier':knn,'params':{'kneighborsclassifier__n_neighbors':k_range, 'kneighborsclassifier__weights':['uniform','distance']}}\n",
    "clf_sc_nm1['bal_rf'] = {'sampler':nm1,'classifier':bal_rf,'params':{'balancedrandomforestclassifier__max_depth':depth_range,'balancedrandomforestclassifier__n_estimators':n_estimators}}\n",
    "clf_sc_nm1['xg'] = {'sampler':nm1,'classifier':xg,'params':{'xgbclassifier__max_depth':depth_range, 'xgbclassifier__learning_rate':lr}}\n",
    "clf_sc_nm1['ens'] = {'sampler':nm1,'classifier':ens,'params':{'easyensembleclassifier__n_estimators':n_estimators2}}\n",
    "for model in clf_sc_nm1:\n",
    "    pipe = make_pipeline(sc,clf_sc_nm1[model]['sampler'],clf_sc_nm1[model]['classifier'])\n",
    "    \n",
    "    rand = RandomizedSearchCV(pipe,clf_sc_nm1[model]['params'],cv=gkf.split(X_tr.to_numpy(),y_tr.to_numpy(),groups[tr]),n_iter=20,scoring='precision',random_state=87)\n",
    "    rand.fit(X_tr.to_numpy(),y_tr.to_numpy())\n",
    "    \n",
    "    clf_sc_nm1[model].update({'best_score_':rand.best_score_,'best_estimator_':rand.best_estimator_})\n"
   ]
  },
  {
   "cell_type": "code",
   "execution_count": 36,
   "id": "83d0880e-a29e-4a2b-ab6a-1e88129aeaaa",
   "metadata": {},
   "outputs": [
    {
     "name": "stdout",
     "output_type": "stream",
     "text": [
      "knn <class 'imblearn.under_sampling._prototype_selection._random_under_sampler.RandomUnderSampler'> 0.8336461126009854\n",
      "bal_rf <class 'imblearn.under_sampling._prototype_selection._random_under_sampler.RandomUnderSampler'> 0.787881492449471\n",
      "xg <class 'imblearn.under_sampling._prototype_selection._random_under_sampler.RandomUnderSampler'> 0.7980322056574152\n",
      "ens <class 'imblearn.under_sampling._prototype_selection._random_under_sampler.RandomUnderSampler'> 0.7913632982908712\n",
      "knn <class 'list'> 0.8131036259776729\n",
      "bal_rf <class 'list'> 0.7762037488423448\n",
      "xg <class 'list'> 0.7832914413177263\n",
      "ens <class 'list'> 0.7737768835374543\n",
      "knn <class 'imblearn.under_sampling._prototype_selection._nearmiss.NearMiss'> 0.852246294968101\n",
      "bal_rf <class 'imblearn.under_sampling._prototype_selection._nearmiss.NearMiss'> 0.6878261460077254\n",
      "xg <class 'imblearn.under_sampling._prototype_selection._nearmiss.NearMiss'> 0.7934932021462713\n",
      "ens <class 'imblearn.under_sampling._prototype_selection._nearmiss.NearMiss'> 0.6507946568003304\n"
     ]
    }
   ],
   "source": [
    "for clf in [clf_sc_rus,clf_sc_tom,clf_sc_nm1]:\n",
    "    for model in clf:\n",
    "        print(model,clf[model]['sampler'].__class__,clf[model]['best_score_'])"
   ]
  },
  {
   "cell_type": "code",
   "execution_count": 118,
   "id": "b1676332-5fab-4d6e-8579-cf5e6236386e",
   "metadata": {},
   "outputs": [
    {
     "name": "stdout",
     "output_type": "stream",
     "text": [
      "knn <class 'imblearn.under_sampling._prototype_selection._random_under_sampler.RandomUnderSampler'> 0.8336461126009854\n",
      "bal_rf <class 'imblearn.under_sampling._prototype_selection._random_under_sampler.RandomUnderSampler'> 0.787881492449471\n",
      "xg <class 'imblearn.under_sampling._prototype_selection._random_under_sampler.RandomUnderSampler'> 0.7980322056574152\n",
      "ens <class 'imblearn.under_sampling._prototype_selection._random_under_sampler.RandomUnderSampler'> 0.7913632982908712\n",
      "knn <class 'imblearn.under_sampling._prototype_selection._tomek_links.TomekLinks'> 0.8505471552338928\n",
      "bal_rf <class 'imblearn.under_sampling._prototype_selection._tomek_links.TomekLinks'> 0.7779915344753549\n",
      "xg <class 'imblearn.under_sampling._prototype_selection._tomek_links.TomekLinks'> 0.837620509028375\n",
      "ens <class 'imblearn.under_sampling._prototype_selection._tomek_links.TomekLinks'> 0.7784937496946064\n",
      "knn <class 'imblearn.under_sampling._prototype_selection._nearmiss.NearMiss'> 0.852246294968101\n",
      "bal_rf <class 'imblearn.under_sampling._prototype_selection._nearmiss.NearMiss'> 0.6878261460077254\n",
      "xg <class 'imblearn.under_sampling._prototype_selection._nearmiss.NearMiss'> 0.7934932021462713\n",
      "ens <class 'imblearn.under_sampling._prototype_selection._nearmiss.NearMiss'> 0.6507946568003304\n"
     ]
    }
   ],
   "source": [
    "for clf in [clf_sc_rus,clf_sc_tom,clf_sc_nm1]:\n",
    "    for model in clf:\n",
    "        print(model,clf[model]['sampler'].__class__,clf[model]['best_score_'])"
   ]
  },
  {
   "cell_type": "code",
   "execution_count": 37,
   "id": "ccc958d4-a0db-49ba-80b7-d5fc4fc34d1f",
   "metadata": {},
   "outputs": [
    {
     "name": "stderr",
     "output_type": "stream",
     "text": [
      "/Users/nicolegreen/anaconda3/envs/metis/lib/python3.7/site-packages/sklearn/model_selection/_search.py:266: UserWarning: The total space of parameters 6 is smaller than n_iter=20. Running 6 iterations. For exhaustive searches, use GridSearchCV.\n",
      "  % (grid_size, self.n_iter, grid_size), UserWarning)\n",
      "/Users/nicolegreen/anaconda3/envs/metis/lib/python3.7/site-packages/joblib/externals/loky/process_executor.py:706: UserWarning: A worker stopped while some jobs were given to the executor. This can be caused by a too short worker timeout or by a memory leak.\n",
      "  \"timeout or by a memory leak.\", UserWarning\n",
      "/Users/nicolegreen/anaconda3/envs/metis/lib/python3.7/site-packages/joblib/externals/loky/process_executor.py:706: UserWarning: A worker stopped while some jobs were given to the executor. This can be caused by a too short worker timeout or by a memory leak.\n",
      "  \"timeout or by a memory leak.\", UserWarning\n",
      "/Users/nicolegreen/anaconda3/envs/metis/lib/python3.7/site-packages/joblib/externals/loky/process_executor.py:706: UserWarning: A worker stopped while some jobs were given to the executor. This can be caused by a too short worker timeout or by a memory leak.\n",
      "  \"timeout or by a memory leak.\", UserWarning\n",
      "/Users/nicolegreen/anaconda3/envs/metis/lib/python3.7/site-packages/joblib/externals/loky/process_executor.py:706: UserWarning: A worker stopped while some jobs were given to the executor. This can be caused by a too short worker timeout or by a memory leak.\n",
      "  \"timeout or by a memory leak.\", UserWarning\n",
      "/Users/nicolegreen/anaconda3/envs/metis/lib/python3.7/site-packages/joblib/externals/loky/process_executor.py:706: UserWarning: A worker stopped while some jobs were given to the executor. This can be caused by a too short worker timeout or by a memory leak.\n",
      "  \"timeout or by a memory leak.\", UserWarning\n",
      "/Users/nicolegreen/anaconda3/envs/metis/lib/python3.7/site-packages/sklearn/model_selection/_search.py:266: UserWarning: The total space of parameters 6 is smaller than n_iter=20. Running 6 iterations. For exhaustive searches, use GridSearchCV.\n",
      "  % (grid_size, self.n_iter, grid_size), UserWarning)\n",
      "/Users/nicolegreen/anaconda3/envs/metis/lib/python3.7/site-packages/joblib/externals/loky/process_executor.py:706: UserWarning: A worker stopped while some jobs were given to the executor. This can be caused by a too short worker timeout or by a memory leak.\n",
      "  \"timeout or by a memory leak.\", UserWarning\n",
      "/Users/nicolegreen/anaconda3/envs/metis/lib/python3.7/site-packages/sklearn/model_selection/_search.py:266: UserWarning: The total space of parameters 6 is smaller than n_iter=20. Running 6 iterations. For exhaustive searches, use GridSearchCV.\n",
      "  % (grid_size, self.n_iter, grid_size), UserWarning)\n"
     ]
    }
   ],
   "source": [
    "knn = KNeighborsClassifier(n_jobs=-1)\n",
    "k_range = range(1,21)\n",
    "\n",
    "bal_rf = BalancedRandomForestClassifier(random_state=87,n_jobs=-1)\n",
    "n_estimators = range(50,201,50)\n",
    "depth_range= range(1,21)\n",
    "\n",
    "xg = XGBClassifier(random_state=87,n_jobs=-1)\n",
    "lr = np.arange(.1,1.1,.1)\n",
    "\n",
    "ens = EasyEnsembleClassifier(random_state=87,n_jobs=-1)\n",
    "n_estimators2 = range(10,61,10)\n",
    "\n",
    "clf_ptsc_rus = {}.fromkeys(['knn','bal_rf','xg','ens'])\n",
    "clf_ptsc_tom = {}.fromkeys(['knn','bal_rf','xg','ens'])\n",
    "clf_ptsc_nm1 = {}.fromkeys(['knn','bal_rf','xg','ens'])\n",
    "\n",
    "rus = RandomUnderSampler(random_state=87)\n",
    "tom = TomekLinks(random_state=87,n_jobs=-1)\n",
    "nm1 = NearMiss(random_state=87,version=1,n_jobs=-1)\n",
    "\n",
    "clf_ptsc_rus['knn'] = {'sampler':rus,'classifier':knn,'params':{'kneighborsclassifier__n_neighbors':k_range, 'kneighborsclassifier__weights':['uniform','distance']}}\n",
    "clf_ptsc_rus['bal_rf'] = {'sampler':rus,'classifier':bal_rf,'params':{'balancedrandomforestclassifier__max_depth':depth_range,'balancedrandomforestclassifier__n_estimators':n_estimators}}\n",
    "clf_ptsc_rus['xg'] = {'sampler':rus,'classifier':xg,'params':{'xgbclassifier__max_depth':depth_range, 'xgbclassifier__learning_rate':lr}}\n",
    "clf_ptsc_rus['ens'] = {'sampler':rus,'classifier':ens,'params':{'easyensembleclassifier__n_estimators':n_estimators2}}\n",
    "for model in clf_ptsc_rus:\n",
    "    pipe = make_pipeline(pt,clf_ptsc_rus[model]['sampler'],clf_ptsc_rus[model]['classifier'])\n",
    "\n",
    "    rand = RandomizedSearchCV(pipe,clf_ptsc_rus[model]['params'],cv=gkf.split(X_tr.to_numpy(),y_tr.to_numpy(),groups[tr]),n_iter=20,scoring='precision',random_state=87)\n",
    "    rand.fit(X_tr.to_numpy(),y_tr.to_numpy())\n",
    "    \n",
    "    clf_ptsc_rus[model].update({'best_score_':rand.best_score_,'best_estimator_':rand.best_estimator_})\n",
    "\n",
    "    \n",
    "clf_ptsc_tom['knn'] = {'sampler':[tom,rus],'classifier':knn,'params':{'kneighborsclassifier__n_neighbors':k_range, 'kneighborsclassifier__weights':['uniform','distance']}}\n",
    "clf_ptsc_tom['bal_rf'] = {'sampler':[tom,rus],'classifier':bal_rf,'params':{'balancedrandomforestclassifier__max_depth':depth_range,'balancedrandomforestclassifier__n_estimators':n_estimators}}\n",
    "clf_ptsc_tom['xg'] = {'sampler':[tom,rus],'classifier':xg,'params':{'xgbclassifier__max_depth':depth_range, 'xgbclassifier__learning_rate':lr}}\n",
    "clf_ptsc_tom['ens'] = {'sampler':[tom,rus],'classifier':ens,'params':{'easyensembleclassifier__n_estimators':n_estimators2}}\n",
    "for model in clf_ptsc_tom:\n",
    "    pipe = make_pipeline(pt,clf_ptsc_tom[model]['sampler'][0],clf_ptsc_tom[model]['sampler'][1],clf_ptsc_tom[model]['classifier'])\n",
    "    \n",
    "    rand = RandomizedSearchCV(pipe,clf_ptsc_tom[model]['params'],cv=gkf.split(X_tr.to_numpy(),y_tr.to_numpy(),groups[tr]),n_iter=20,scoring='precision',random_state=87)\n",
    "    rand.fit(X_tr.to_numpy(),y_tr.to_numpy())\n",
    "    \n",
    "    clf_ptsc_tom[model].update({'best_score_':rand.best_score_,'best_estimator_':rand.best_estimator_})\n",
    "\n",
    "\n",
    "clf_ptsc_nm1['knn'] = {'sampler':nm1,'classifier':knn,'params':{'kneighborsclassifier__n_neighbors':k_range, 'kneighborsclassifier__weights':['uniform','distance']}}\n",
    "clf_ptsc_nm1['bal_rf'] = {'sampler':nm1,'classifier':bal_rf,'params':{'balancedrandomforestclassifier__max_depth':depth_range,'balancedrandomforestclassifier__n_estimators':n_estimators}}\n",
    "clf_ptsc_nm1['xg'] = {'sampler':nm1,'classifier':xg,'params':{'xgbclassifier__max_depth':depth_range, 'xgbclassifier__learning_rate':lr}}\n",
    "clf_ptsc_nm1['ens'] = {'sampler':nm1,'classifier':ens,'params':{'easyensembleclassifier__n_estimators':n_estimators2}}\n",
    "for model in clf_ptsc_nm1:\n",
    "    pipe = make_pipeline(pt,clf_ptsc_nm1[model]['sampler'],clf_ptsc_nm1[model]['classifier'])\n",
    "\n",
    "    rand = RandomizedSearchCV(pipe,clf_ptsc_nm1[model]['params'],cv=gkf.split(X_tr.to_numpy(),y_tr.to_numpy(),groups[tr]),n_iter=20,scoring='precision',random_state=87)\n",
    "    rand.fit(X_tr.to_numpy(),y_tr.to_numpy())\n",
    "    \n",
    "    clf_ptsc_nm1[model].update({'best_score_':rand.best_score_,'best_estimator_':rand.best_estimator_})\n",
    "    "
   ]
  },
  {
   "cell_type": "code",
   "execution_count": 38,
   "id": "aba670ee-3b5f-45ab-bfc5-afd7dc497bb8",
   "metadata": {},
   "outputs": [
    {
     "name": "stderr",
     "output_type": "stream",
     "text": [
      "/Users/nicolegreen/anaconda3/envs/metis/lib/python3.7/site-packages/sklearn/model_selection/_search.py:266: UserWarning: The total space of parameters 6 is smaller than n_iter=20. Running 6 iterations. For exhaustive searches, use GridSearchCV.\n",
      "  % (grid_size, self.n_iter, grid_size), UserWarning)\n",
      "/Users/nicolegreen/anaconda3/envs/metis/lib/python3.7/site-packages/sklearn/model_selection/_search.py:266: UserWarning: The total space of parameters 6 is smaller than n_iter=20. Running 6 iterations. For exhaustive searches, use GridSearchCV.\n",
      "  % (grid_size, self.n_iter, grid_size), UserWarning)\n",
      "/Users/nicolegreen/anaconda3/envs/metis/lib/python3.7/site-packages/sklearn/model_selection/_search.py:266: UserWarning: The total space of parameters 6 is smaller than n_iter=20. Running 6 iterations. For exhaustive searches, use GridSearchCV.\n",
      "  % (grid_size, self.n_iter, grid_size), UserWarning)\n"
     ]
    }
   ],
   "source": [
    "knn = KNeighborsClassifier(n_jobs=-1)\n",
    "k_range = range(1,21)\n",
    "\n",
    "bal_rf = BalancedRandomForestClassifier(random_state=87,n_jobs=-1)\n",
    "n_estimators = range(50,201,50)\n",
    "depth_range= range(1,21)\n",
    "\n",
    "xg = XGBClassifier(random_state=87,n_jobs=-1)\n",
    "lr = np.arange(.1,1.1,.1)\n",
    "\n",
    "ens = EasyEnsembleClassifier(random_state=87,n_jobs=-1)\n",
    "n_estimators2 = range(10,61,10)\n",
    "\n",
    "clf_minmaxsc_rus = {}.fromkeys(['knn','bal_rf','xg','ens'])\n",
    "clf_minmaxsc_tom = {}.fromkeys(['knn','bal_rf','xg','ens'])\n",
    "clf_minmaxsc_nm1 = {}.fromkeys(['knn','bal_rf','xg','ens'])\n",
    "\n",
    "rus = RandomUnderSampler(random_state=87)\n",
    "tom = TomekLinks(random_state=87,n_jobs=-1)\n",
    "nm1 = NearMiss(random_state=87,version=1,n_jobs=-1)\n",
    "\n",
    "clf_minmaxsc_rus['knn'] = {'sampler':rus,'classifier':knn,'params':{'kneighborsclassifier__n_neighbors':k_range, 'kneighborsclassifier__weights':['uniform','distance']}}\n",
    "clf_minmaxsc_rus['bal_rf'] = {'sampler':rus,'classifier':bal_rf,'params':{'balancedrandomforestclassifier__max_depth':depth_range,'balancedrandomforestclassifier__n_estimators':n_estimators}}\n",
    "clf_minmaxsc_rus['xg'] = {'sampler':rus,'classifier':xg,'params':{'xgbclassifier__max_depth':depth_range, 'xgbclassifier__learning_rate':lr}}\n",
    "clf_minmaxsc_rus['ens'] = {'sampler':rus,'classifier':ens,'params':{'easyensembleclassifier__n_estimators':n_estimators2}}\n",
    "for model in clf_minmaxsc_rus:\n",
    "    pipe = make_pipeline(minmaxsc,clf_minmaxsc_rus[model]['sampler'],clf_minmaxsc_rus[model]['classifier'])\n",
    "\n",
    "    rand = RandomizedSearchCV(pipe,clf_minmaxsc_rus[model]['params'],cv=gkf.split(X_tr.to_numpy(),y_tr.to_numpy(),groups[tr]),n_iter=20,scoring='precision',random_state=87)\n",
    "    rand.fit(X_tr.to_numpy(),y_tr.to_numpy())\n",
    "    \n",
    "    clf_minmaxsc_rus[model].update({'best_score_':rand.best_score_,'best_estimator_':rand.best_estimator_})\n",
    "\n",
    "    \n",
    "clf_minmaxsc_tom['knn'] = {'sampler':[tom,rus],'classifier':knn,'params':{'kneighborsclassifier__n_neighbors':k_range, 'kneighborsclassifier__weights':['uniform','distance']}}\n",
    "clf_minmaxsc_tom['bal_rf'] = {'sampler':[tom,rus],'classifier':bal_rf,'params':{'balancedrandomforestclassifier__max_depth':depth_range,'balancedrandomforestclassifier__n_estimators':n_estimators}}\n",
    "clf_minmaxsc_tom['xg'] = {'sampler':[tom,rus],'classifier':xg,'params':{'xgbclassifier__max_depth':depth_range, 'xgbclassifier__learning_rate':lr}}\n",
    "clf_minmaxsc_tom['ens'] = {'sampler':[tom,rus],'classifier':ens,'params':{'easyensembleclassifier__n_estimators':n_estimators2}}\n",
    "for model in clf_minmaxsc_tom:\n",
    "    pipe = make_pipeline(minmaxsc,clf_minmaxsc_tom[model]['sampler'][0],clf_minmaxsc_tom[model]['sampler'][1],clf_minmaxsc_tom[model]['classifier'])\n",
    "    \n",
    "    rand = RandomizedSearchCV(pipe,clf_minmaxsc_tom[model]['params'],cv=gkf.split(X_tr.to_numpy(),y_tr.to_numpy(),groups[tr]),n_iter=20,scoring='precision',random_state=87)\n",
    "    rand.fit(X_tr.to_numpy(),y_tr.to_numpy())\n",
    "    \n",
    "    clf_minmaxsc_tom[model].update({'best_score_':rand.best_score_,'best_estimator_':rand.best_estimator_})\n",
    "\n",
    "\n",
    "clf_minmaxsc_nm1['knn'] = {'sampler':nm1,'classifier':knn,'params':{'kneighborsclassifier__n_neighbors':k_range, 'kneighborsclassifier__weights':['uniform','distance']}}\n",
    "clf_minmaxsc_nm1['bal_rf'] = {'sampler':nm1,'classifier':bal_rf,'params':{'balancedrandomforestclassifier__max_depth':depth_range,'balancedrandomforestclassifier__n_estimators':n_estimators}}\n",
    "clf_minmaxsc_nm1['xg'] = {'sampler':nm1,'classifier':xg,'params':{'xgbclassifier__max_depth':depth_range, 'xgbclassifier__learning_rate':lr}}\n",
    "clf_minmaxsc_nm1['ens'] = {'sampler':nm1,'classifier':ens,'params':{'easyensembleclassifier__n_estimators':n_estimators2}}\n",
    "for model in clf_minmaxsc_nm1:\n",
    "    pipe = make_pipeline(minmaxsc,clf_minmaxsc_nm1[model]['sampler'],clf_minmaxsc_nm1[model]['classifier'])\n",
    "\n",
    "    rand = RandomizedSearchCV(pipe,clf_minmaxsc_nm1[model]['params'],cv=gkf.split(X_tr.to_numpy(),y_tr.to_numpy(),groups[tr]),n_iter=20,scoring='precision',random_state=87)\n",
    "    rand.fit(X_tr.to_numpy(),y_tr.to_numpy())\n",
    "    \n",
    "    clf_minmaxsc_nm1[model].update({'best_score_':rand.best_score_,'best_estimator_':rand.best_estimator_})\n",
    "    "
   ]
  },
  {
   "cell_type": "code",
   "execution_count": 39,
   "id": "7ce29b43-549b-418b-8db2-17d4de8b4a57",
   "metadata": {
    "tags": []
   },
   "outputs": [
    {
     "name": "stderr",
     "output_type": "stream",
     "text": [
      "/Users/nicolegreen/anaconda3/envs/metis/lib/python3.7/site-packages/sklearn/model_selection/_search.py:266: UserWarning: The total space of parameters 6 is smaller than n_iter=20. Running 6 iterations. For exhaustive searches, use GridSearchCV.\n",
      "  % (grid_size, self.n_iter, grid_size), UserWarning)\n",
      "/Users/nicolegreen/anaconda3/envs/metis/lib/python3.7/site-packages/sklearn/model_selection/_search.py:266: UserWarning: The total space of parameters 6 is smaller than n_iter=20. Running 6 iterations. For exhaustive searches, use GridSearchCV.\n",
      "  % (grid_size, self.n_iter, grid_size), UserWarning)\n",
      "/Users/nicolegreen/anaconda3/envs/metis/lib/python3.7/site-packages/sklearn/model_selection/_search.py:266: UserWarning: The total space of parameters 6 is smaller than n_iter=20. Running 6 iterations. For exhaustive searches, use GridSearchCV.\n",
      "  % (grid_size, self.n_iter, grid_size), UserWarning)\n"
     ]
    }
   ],
   "source": [
    "knn = KNeighborsClassifier(n_jobs=-1)\n",
    "k_range = range(1,21)\n",
    "\n",
    "bal_rf = BalancedRandomForestClassifier(random_state=87,n_jobs=-1)\n",
    "n_estimators = range(50,201,50)\n",
    "depth_range= range(1,21)\n",
    "\n",
    "xg = XGBClassifier(random_state=87,n_jobs=-1)\n",
    "lr = np.arange(.1,1.1,.1)\n",
    "\n",
    "ens = EasyEnsembleClassifier(random_state=87,n_jobs=-1)\n",
    "n_estimators2 = range(10,61,10)\n",
    "\n",
    "clf_maxabssc_rus = {}.fromkeys(['knn','bal_rf','xg','ens'])\n",
    "clf_maxabssc_tom = {}.fromkeys(['knn','bal_rf','xg','ens'])\n",
    "clf_maxabssc_nm1 = {}.fromkeys(['knn','bal_rf','xg','ens'])\n",
    "\n",
    "rus = RandomUnderSampler(random_state=87)\n",
    "tom = TomekLinks(random_state=87,n_jobs=-1)\n",
    "nm1 = NearMiss(random_state=87,version=1,n_jobs=-1)\n",
    "\n",
    "clf_maxabssc_rus['knn'] = {'sampler':rus,'classifier':knn,'params':{'kneighborsclassifier__n_neighbors':k_range, 'kneighborsclassifier__weights':['uniform','distance']}}\n",
    "clf_maxabssc_rus['bal_rf'] = {'sampler':rus,'classifier':bal_rf,'params':{'balancedrandomforestclassifier__max_depth':depth_range,'balancedrandomforestclassifier__n_estimators':n_estimators}}\n",
    "clf_maxabssc_rus['xg'] = {'sampler':rus,'classifier':xg,'params':{'xgbclassifier__max_depth':depth_range, 'xgbclassifier__learning_rate':lr}}\n",
    "clf_maxabssc_rus['ens'] = {'sampler':rus,'classifier':ens,'params':{'easyensembleclassifier__n_estimators':n_estimators2}}\n",
    "for model in clf_maxabssc_rus:\n",
    "    pipe = make_pipeline(maxabssc,clf_maxabssc_rus[model]['sampler'],clf_maxabssc_rus[model]['classifier'])\n",
    "\n",
    "    rand = RandomizedSearchCV(pipe,clf_maxabssc_rus[model]['params'],cv=gkf.split(X_tr.to_numpy(),y_tr.to_numpy(),groups[tr]),n_iter=20,scoring='precision',random_state=87)\n",
    "    rand.fit(X_tr.to_numpy(),y_tr.to_numpy())\n",
    "    \n",
    "    clf_maxabssc_rus[model].update({'best_score_':rand.best_score_,'best_estimator_':rand.best_estimator_})\n",
    "\n",
    "    \n",
    "clf_maxabssc_tom['knn'] = {'sampler':[tom,rus],'classifier':knn,'params':{'kneighborsclassifier__n_neighbors':k_range, 'kneighborsclassifier__weights':['uniform','distance']}}\n",
    "clf_maxabssc_tom['bal_rf'] = {'sampler':[tom,rus],'classifier':bal_rf,'params':{'balancedrandomforestclassifier__max_depth':depth_range,'balancedrandomforestclassifier__n_estimators':n_estimators}}\n",
    "clf_maxabssc_tom['xg'] = {'sampler':[tom,rus],'classifier':xg,'params':{'xgbclassifier__max_depth':depth_range, 'xgbclassifier__learning_rate':lr}}\n",
    "clf_maxabssc_tom['ens'] = {'sampler':[tom,rus],'classifier':ens,'params':{'easyensembleclassifier__n_estimators':n_estimators2}}\n",
    "for model in clf_maxabssc_tom:\n",
    "    pipe = make_pipeline(maxabssc,clf_maxabssc_tom[model]['sampler'][0],clf_maxabssc_tom[model]['sampler'][1],clf_maxabssc_tom[model]['classifier'])\n",
    "    \n",
    "    rand = RandomizedSearchCV(pipe,clf_maxabssc_tom[model]['params'],cv=gkf.split(X_tr.to_numpy(),y_tr.to_numpy(),groups[tr]),n_iter=20,scoring='precision',random_state=87)\n",
    "    rand.fit(X_tr.to_numpy(),y_tr.to_numpy())\n",
    "    \n",
    "    clf_maxabssc_tom[model].update({'best_score_':rand.best_score_,'best_estimator_':rand.best_estimator_})\n",
    "\n",
    "\n",
    "clf_maxabssc_nm1['knn'] = {'sampler':nm1,'classifier':knn,'params':{'kneighborsclassifier__n_neighbors':k_range, 'kneighborsclassifier__weights':['uniform','distance']}}\n",
    "clf_maxabssc_nm1['bal_rf'] = {'sampler':nm1,'classifier':bal_rf,'params':{'balancedrandomforestclassifier__max_depth':depth_range,'balancedrandomforestclassifier__n_estimators':n_estimators}}\n",
    "clf_maxabssc_nm1['xg'] = {'sampler':nm1,'classifier':xg,'params':{'xgbclassifier__max_depth':depth_range, 'xgbclassifier__learning_rate':lr}}\n",
    "clf_maxabssc_nm1['ens'] = {'sampler':nm1,'classifier':ens,'params':{'easyensembleclassifier__n_estimators':n_estimators2}}\n",
    "for model in clf_maxabssc_nm1:\n",
    "    pipe = make_pipeline(maxabssc,clf_maxabssc_nm1[model]['sampler'],clf_maxabssc_nm1[model]['classifier'])\n",
    "\n",
    "    rand = RandomizedSearchCV(pipe,clf_maxabssc_nm1[model]['params'],cv=gkf.split(X_tr.to_numpy(),y_tr.to_numpy(),groups[tr]),n_iter=20,scoring='precision',random_state=87)\n",
    "    rand.fit(X_tr.to_numpy(),y_tr.to_numpy())\n",
    "    \n",
    "    clf_maxabssc_nm1[model].update({'best_score_':rand.best_score_,'best_estimator_':rand.best_estimator_})\n",
    "    "
   ]
  },
  {
   "cell_type": "code",
   "execution_count": 40,
   "id": "547b0cf5-9e95-4fb2-a5d7-1b225b7954fa",
   "metadata": {},
   "outputs": [
    {
     "name": "stdout",
     "output_type": "stream",
     "text": [
      "knn <class 'imblearn.under_sampling._prototype_selection._random_under_sampler.RandomUnderSampler'> 0.8338815545040513\n",
      "bal_rf <class 'imblearn.under_sampling._prototype_selection._random_under_sampler.RandomUnderSampler'> 0.7877585175630138\n",
      "xg <class 'imblearn.under_sampling._prototype_selection._random_under_sampler.RandomUnderSampler'> 0.7980322056574152\n",
      "ens <class 'imblearn.under_sampling._prototype_selection._random_under_sampler.RandomUnderSampler'> 0.7913632982908712\n",
      "knn <class 'list'> 0.8152068013749376\n",
      "bal_rf <class 'list'> 0.778074543632888\n",
      "xg <class 'list'> 0.7850998596110196\n",
      "ens <class 'list'> 0.779067515967664\n",
      "knn <class 'imblearn.under_sampling._prototype_selection._nearmiss.NearMiss'> 0.8495755404332932\n",
      "bal_rf <class 'imblearn.under_sampling._prototype_selection._nearmiss.NearMiss'> 0.6809262291959015\n",
      "xg <class 'imblearn.under_sampling._prototype_selection._nearmiss.NearMiss'> 0.799247702647054\n",
      "ens <class 'imblearn.under_sampling._prototype_selection._nearmiss.NearMiss'> 0.6485884248392102\n"
     ]
    }
   ],
   "source": [
    "for clf in [clf_minmaxsc_rus,clf_minmaxsc_tom,clf_minmaxsc_nm1]:\n",
    "    for model in clf:\n",
    "        print(model,clf[model]['sampler'].__class__,clf[model]['best_score_'])"
   ]
  },
  {
   "cell_type": "code",
   "execution_count": 41,
   "id": "056e2302-8439-4353-9794-aed5d3233eed",
   "metadata": {},
   "outputs": [
    {
     "name": "stdout",
     "output_type": "stream",
     "text": [
      "knn <class 'imblearn.under_sampling._prototype_selection._random_under_sampler.RandomUnderSampler'> 0.8335718061876447\n",
      "bal_rf <class 'imblearn.under_sampling._prototype_selection._random_under_sampler.RandomUnderSampler'> 0.7880347354452697\n",
      "xg <class 'imblearn.under_sampling._prototype_selection._random_under_sampler.RandomUnderSampler'> 0.7980322056574152\n",
      "ens <class 'imblearn.under_sampling._prototype_selection._random_under_sampler.RandomUnderSampler'> 0.7913632982908712\n",
      "knn <class 'list'> 0.8153996393370916\n",
      "bal_rf <class 'list'> 0.7773645130999401\n",
      "xg <class 'list'> 0.7840596776951168\n",
      "ens <class 'list'> 0.7788764377072367\n",
      "knn <class 'imblearn.under_sampling._prototype_selection._nearmiss.NearMiss'> 0.8406471342036529\n",
      "bal_rf <class 'imblearn.under_sampling._prototype_selection._nearmiss.NearMiss'> 0.6880643762039269\n",
      "xg <class 'imblearn.under_sampling._prototype_selection._nearmiss.NearMiss'> 0.7994670122175505\n",
      "ens <class 'imblearn.under_sampling._prototype_selection._nearmiss.NearMiss'> 0.6490096809442576\n"
     ]
    }
   ],
   "source": [
    "for clf in [clf_maxabssc_rus,clf_maxabssc_tom,clf_maxabssc_nm1]:\n",
    "    for model in clf:\n",
    "        print(model,clf[model]['sampler'].__class__,clf[model]['best_score_'])"
   ]
  },
  {
   "cell_type": "code",
   "execution_count": 42,
   "id": "24d53cd4-58d2-4e7a-823f-7d8565fd6899",
   "metadata": {},
   "outputs": [
    {
     "name": "stdout",
     "output_type": "stream",
     "text": [
      "knn <class 'imblearn.under_sampling._prototype_selection._random_under_sampler.RandomUnderSampler'> 0.8335841634410017\n",
      "bal_rf <class 'imblearn.under_sampling._prototype_selection._random_under_sampler.RandomUnderSampler'> 0.7879264743462585\n",
      "xg <class 'imblearn.under_sampling._prototype_selection._random_under_sampler.RandomUnderSampler'> 0.7980322056574152\n",
      "ens <class 'imblearn.under_sampling._prototype_selection._random_under_sampler.RandomUnderSampler'> 0.7913632982908712\n",
      "knn <class 'list'> 0.8152728332509424\n",
      "bal_rf <class 'list'> 0.7780570016999854\n",
      "xg <class 'list'> 0.7826659970269331\n",
      "ens <class 'list'> 0.7760494210254795\n",
      "knn <class 'imblearn.under_sampling._prototype_selection._nearmiss.NearMiss'> 0.8480961644996164\n",
      "bal_rf <class 'imblearn.under_sampling._prototype_selection._nearmiss.NearMiss'> 0.6797711319598487\n",
      "xg <class 'imblearn.under_sampling._prototype_selection._nearmiss.NearMiss'> 0.7971021736991866\n",
      "ens <class 'imblearn.under_sampling._prototype_selection._nearmiss.NearMiss'> 0.6468745730460215\n"
     ]
    }
   ],
   "source": [
    "for clf in [clf_ptsc_rus,clf_ptsc_tom,clf_ptsc_nm1]:\n",
    "    for model in clf:\n",
    "        print(model,clf[model]['sampler'].__class__,clf[model]['best_score_'])"
   ]
  },
  {
   "cell_type": "markdown",
   "id": "f485551b-d230-49a6-a3bc-aa5b2853128c",
   "metadata": {},
   "source": [
    "The best estimator this time is a pipeline of the StandardScalar, NearMiss sampler, version 1, and KNN classifier."
   ]
  },
  {
   "cell_type": "code",
   "execution_count": 43,
   "id": "0d860ac0-d2d7-470a-ae18-640f1985f4fd",
   "metadata": {},
   "outputs": [
    {
     "data": {
      "text/plain": [
       "GridSearchCV(cv=<generator object _BaseKFold.split at 0x7fd67f382450>,\n",
       "             error_score='raise-deprecating',\n",
       "             estimator=Pipeline(memory=None,\n",
       "                                steps=[('standardscaler',\n",
       "                                        StandardScaler(copy=True,\n",
       "                                                       with_mean=True,\n",
       "                                                       with_std=True)),\n",
       "                                       ('nearmiss',\n",
       "                                        NearMiss(n_jobs=-1, n_neighbors=3,\n",
       "                                                 n_neighbors_ver3=3,\n",
       "                                                 random_state=87, ratio=None,\n",
       "                                                 return_indices=False,\n",
       "                                                 sampling_strategy='auto',\n",
       "                                                 ver...\n",
       "                                        KNeighborsClassifier(algorithm='auto',\n",
       "                                                             leaf_size=30,\n",
       "                                                             metric='minkowski',\n",
       "                                                             metric_params=None,\n",
       "                                                             n_jobs=-1,\n",
       "                                                             n_neighbors=16,\n",
       "                                                             p=2,\n",
       "                                                             weights='uniform'))],\n",
       "                                verbose=False),\n",
       "             iid='warn', n_jobs=-1,\n",
       "             param_grid={'kneighborsclassifier__n_neighbors': range(1, 21),\n",
       "                         'nearmiss__n_neighbors': range(1, 8)},\n",
       "             pre_dispatch='2*n_jobs', refit=True, return_train_score=False,\n",
       "             scoring='precision', verbose=0)"
      ]
     },
     "execution_count": 43,
     "metadata": {},
     "output_type": "execute_result"
    }
   ],
   "source": [
    "grid = GridSearchCV(clf_sc_nm1['knn']['best_estimator_'],{'nearmiss__n_neighbors':range(1,8),'kneighborsclassifier__n_neighbors':k_range},\n",
    "                   cv=gkf.split(X_tr.to_numpy(),y_tr.to_numpy(),groups[tr]),scoring='precision',n_jobs=-1)\n",
    "grid.fit(X_tr.to_numpy(),y_tr.to_numpy())"
   ]
  },
  {
   "cell_type": "code",
   "execution_count": 44,
   "id": "38e8a6a1-78ef-479e-8f79-4bc1639c0ad2",
   "metadata": {},
   "outputs": [
    {
     "data": {
      "text/plain": [
       "Pipeline(memory=None,\n",
       "         steps=[('standardscaler',\n",
       "                 StandardScaler(copy=True, with_mean=True, with_std=True)),\n",
       "                ('nearmiss',\n",
       "                 NearMiss(n_jobs=-1, n_neighbors=1, n_neighbors_ver3=3,\n",
       "                          random_state=87, ratio=None, return_indices=False,\n",
       "                          sampling_strategy='auto', version=1)),\n",
       "                ('kneighborsclassifier',\n",
       "                 KNeighborsClassifier(algorithm='auto', leaf_size=30,\n",
       "                                      metric='minkowski', metric_params=None,\n",
       "                                      n_jobs=-1, n_neighbors=2, p=2,\n",
       "                                      weights='uniform'))],\n",
       "         verbose=False)"
      ]
     },
     "execution_count": 44,
     "metadata": {},
     "output_type": "execute_result"
    }
   ],
   "source": [
    "knn_loc_only = grid.best_estimator_\n",
    "grid.best_estimator_"
   ]
  },
  {
   "cell_type": "markdown",
   "id": "f3574385-1884-4fad-b18b-11904631298d",
   "metadata": {},
   "source": [
    "The precision score is slightly better than before, with fewer false positives. Also predicting fewer true positives."
   ]
  },
  {
   "cell_type": "code",
   "execution_count": 49,
   "id": "fa2b190b-094a-4fae-a8b4-5dade655b8f3",
   "metadata": {},
   "outputs": [
    {
     "data": {
      "text/plain": [
       "0.8781143914190628"
      ]
     },
     "execution_count": 49,
     "metadata": {},
     "output_type": "execute_result"
    }
   ],
   "source": [
    "grid.best_score_"
   ]
  },
  {
   "cell_type": "code",
   "execution_count": 50,
   "id": "81b360ea-6bbe-4a62-b225-0e39c1dd48c5",
   "metadata": {},
   "outputs": [
    {
     "data": {
      "text/plain": [
       "0.8833602584814216"
      ]
     },
     "execution_count": 50,
     "metadata": {},
     "output_type": "execute_result"
    }
   ],
   "source": [
    "precision_score(y_te.to_numpy(),knn_loc_only.predict(X_te.to_numpy()))"
   ]
  },
  {
   "cell_type": "code",
   "execution_count": 51,
   "id": "938768d3-b3a6-44b8-82ed-57d21308f839",
   "metadata": {},
   "outputs": [
    {
     "data": {
      "text/html": [
       "<div>\n",
       "<style scoped>\n",
       "    .dataframe tbody tr th:only-of-type {\n",
       "        vertical-align: middle;\n",
       "    }\n",
       "\n",
       "    .dataframe tbody tr th {\n",
       "        vertical-align: top;\n",
       "    }\n",
       "\n",
       "    .dataframe thead tr th {\n",
       "        text-align: left;\n",
       "    }\n",
       "</style>\n",
       "<table border=\"1\" class=\"dataframe\">\n",
       "  <thead>\n",
       "    <tr>\n",
       "      <th></th>\n",
       "      <th></th>\n",
       "      <th colspan=\"2\" halign=\"left\">predicted</th>\n",
       "    </tr>\n",
       "    <tr>\n",
       "      <th></th>\n",
       "      <th></th>\n",
       "      <th>False</th>\n",
       "      <th>True</th>\n",
       "    </tr>\n",
       "  </thead>\n",
       "  <tbody>\n",
       "    <tr>\n",
       "      <th rowspan=\"2\" valign=\"top\">actual</th>\n",
       "      <th>False</th>\n",
       "      <td>8220</td>\n",
       "      <td>361</td>\n",
       "    </tr>\n",
       "    <tr>\n",
       "      <th>True</th>\n",
       "      <td>1187</td>\n",
       "      <td>2734</td>\n",
       "    </tr>\n",
       "  </tbody>\n",
       "</table>\n",
       "</div>"
      ],
      "text/plain": [
       "             predicted      \n",
       "                 False True \n",
       "actual False      8220   361\n",
       "       True       1187  2734"
      ]
     },
     "execution_count": 51,
     "metadata": {},
     "output_type": "execute_result"
    }
   ],
   "source": [
    "make_confusion_matrix(X_te.to_numpy(),y_te.to_numpy(),knn_loc_only)\n"
   ]
  },
  {
   "cell_type": "markdown",
   "id": "52ca0f2f-966b-4c80-9098-f21da4c2ac6f",
   "metadata": {},
   "source": [
    "Looking at the false positives and false negatives, specifically the location data, I would have thought the incorrect predictions were equally dispersed on either side of the plate, yet I see that both are more concentrated on the same side. "
   ]
  },
  {
   "cell_type": "code",
   "execution_count": 53,
   "id": "98685b62-ee98-48ef-a7e3-6989396b35f4",
   "metadata": {},
   "outputs": [
    {
     "data": {
      "text/html": [
       "<div>\n",
       "<style scoped>\n",
       "    .dataframe tbody tr th:only-of-type {\n",
       "        vertical-align: middle;\n",
       "    }\n",
       "\n",
       "    .dataframe tbody tr th {\n",
       "        vertical-align: top;\n",
       "    }\n",
       "\n",
       "    .dataframe thead th {\n",
       "        text-align: right;\n",
       "    }\n",
       "</style>\n",
       "<table border=\"1\" class=\"dataframe\">\n",
       "  <thead>\n",
       "    <tr style=\"text-align: right;\">\n",
       "      <th></th>\n",
       "      <th>PlateHeight</th>\n",
       "      <th>PlateSide</th>\n",
       "    </tr>\n",
       "  </thead>\n",
       "  <tbody>\n",
       "    <tr>\n",
       "      <th>count</th>\n",
       "      <td>361.000000</td>\n",
       "      <td>361.000000</td>\n",
       "    </tr>\n",
       "    <tr>\n",
       "      <th>mean</th>\n",
       "      <td>2.425795</td>\n",
       "      <td>-0.051989</td>\n",
       "    </tr>\n",
       "    <tr>\n",
       "      <th>std</th>\n",
       "      <td>0.643783</td>\n",
       "      <td>0.712343</td>\n",
       "    </tr>\n",
       "    <tr>\n",
       "      <th>min</th>\n",
       "      <td>1.348255</td>\n",
       "      <td>-2.624613</td>\n",
       "    </tr>\n",
       "    <tr>\n",
       "      <th>25%</th>\n",
       "      <td>1.832166</td>\n",
       "      <td>-0.605110</td>\n",
       "    </tr>\n",
       "    <tr>\n",
       "      <th>50%</th>\n",
       "      <td>2.299730</td>\n",
       "      <td>-0.039336</td>\n",
       "    </tr>\n",
       "    <tr>\n",
       "      <th>75%</th>\n",
       "      <td>3.056641</td>\n",
       "      <td>0.603526</td>\n",
       "    </tr>\n",
       "    <tr>\n",
       "      <th>max</th>\n",
       "      <td>3.664899</td>\n",
       "      <td>1.161515</td>\n",
       "    </tr>\n",
       "  </tbody>\n",
       "</table>\n",
       "</div>"
      ],
      "text/plain": [
       "       PlateHeight   PlateSide\n",
       "count   361.000000  361.000000\n",
       "mean      2.425795   -0.051989\n",
       "std       0.643783    0.712343\n",
       "min       1.348255   -2.624613\n",
       "25%       1.832166   -0.605110\n",
       "50%       2.299730   -0.039336\n",
       "75%       3.056641    0.603526\n",
       "max       3.664899    1.161515"
      ]
     },
     "execution_count": 53,
     "metadata": {},
     "output_type": "execute_result"
    }
   ],
   "source": [
    "# false positives\n",
    "y_pred = knn_loc_only.predict(X_te.to_numpy())\n",
    "X_te[(y_pred != y_te.to_numpy()) & (y_pred == True)].describe()"
   ]
  },
  {
   "cell_type": "code",
   "execution_count": 54,
   "id": "ed88a87f-37d9-48b1-980d-d7085826caae",
   "metadata": {},
   "outputs": [
    {
     "data": {
      "text/html": [
       "<div>\n",
       "<style scoped>\n",
       "    .dataframe tbody tr th:only-of-type {\n",
       "        vertical-align: middle;\n",
       "    }\n",
       "\n",
       "    .dataframe tbody tr th {\n",
       "        vertical-align: top;\n",
       "    }\n",
       "\n",
       "    .dataframe thead th {\n",
       "        text-align: right;\n",
       "    }\n",
       "</style>\n",
       "<table border=\"1\" class=\"dataframe\">\n",
       "  <thead>\n",
       "    <tr style=\"text-align: right;\">\n",
       "      <th></th>\n",
       "      <th>PlateHeight</th>\n",
       "      <th>PlateSide</th>\n",
       "    </tr>\n",
       "  </thead>\n",
       "  <tbody>\n",
       "    <tr>\n",
       "      <th>count</th>\n",
       "      <td>1187.000000</td>\n",
       "      <td>1187.000000</td>\n",
       "    </tr>\n",
       "    <tr>\n",
       "      <th>mean</th>\n",
       "      <td>2.393658</td>\n",
       "      <td>-0.027493</td>\n",
       "    </tr>\n",
       "    <tr>\n",
       "      <th>std</th>\n",
       "      <td>0.719464</td>\n",
       "      <td>0.725699</td>\n",
       "    </tr>\n",
       "    <tr>\n",
       "      <th>min</th>\n",
       "      <td>0.159791</td>\n",
       "      <td>-1.633043</td>\n",
       "    </tr>\n",
       "    <tr>\n",
       "      <th>25%</th>\n",
       "      <td>1.763218</td>\n",
       "      <td>-0.727590</td>\n",
       "    </tr>\n",
       "    <tr>\n",
       "      <th>50%</th>\n",
       "      <td>2.289194</td>\n",
       "      <td>-0.067751</td>\n",
       "    </tr>\n",
       "    <tr>\n",
       "      <th>75%</th>\n",
       "      <td>3.038125</td>\n",
       "      <td>0.685744</td>\n",
       "    </tr>\n",
       "    <tr>\n",
       "      <th>max</th>\n",
       "      <td>4.908381</td>\n",
       "      <td>1.558905</td>\n",
       "    </tr>\n",
       "  </tbody>\n",
       "</table>\n",
       "</div>"
      ],
      "text/plain": [
       "       PlateHeight    PlateSide\n",
       "count  1187.000000  1187.000000\n",
       "mean      2.393658    -0.027493\n",
       "std       0.719464     0.725699\n",
       "min       0.159791    -1.633043\n",
       "25%       1.763218    -0.727590\n",
       "50%       2.289194    -0.067751\n",
       "75%       3.038125     0.685744\n",
       "max       4.908381     1.558905"
      ]
     },
     "execution_count": 54,
     "metadata": {},
     "output_type": "execute_result"
    }
   ],
   "source": [
    "# false negatives\n",
    "X_te[(y_pred != y_te.to_numpy()) & (y_pred == False)].describe()"
   ]
  },
  {
   "cell_type": "markdown",
   "id": "8b7408b9-8430-4b96-99aa-d147939d5d84",
   "metadata": {},
   "source": [
    "### Results\n",
    "What do these numbers mean?"
   ]
  },
  {
   "cell_type": "code",
   "execution_count": 99,
   "id": "1a083c3b-969e-4a75-9a36-6ff99d7c1aba",
   "metadata": {},
   "outputs": [
    {
     "data": {
      "text/plain": [
       "(81,)"
      ]
     },
     "execution_count": 99,
     "metadata": {},
     "output_type": "execute_result"
    }
   ],
   "source": [
    "np.unique(groups[te]).shape"
   ]
  },
  {
   "cell_type": "markdown",
   "id": "5df5b7f4-8dd2-4040-a0dd-62241cb8aa6e",
   "metadata": {},
   "source": [
    "So, of those 81 games, the classifier predicts 395 (361) false positives, or less than 5 missed strikes per game."
   ]
  },
  {
   "cell_type": "code",
   "execution_count": 100,
   "id": "027906a0-bde9-4f63-9997-ba764ccdc61a",
   "metadata": {},
   "outputs": [
    {
     "name": "stdout",
     "output_type": "stream",
     "text": [
      "4.8765432098765435 4.45679012345679\n"
     ]
    }
   ],
   "source": [
    "print(395/81, 361/81)"
   ]
  },
  {
   "cell_type": "code",
   "execution_count": 101,
   "id": "a92d3018-5f94-4b04-9436-54ce44c1009f",
   "metadata": {},
   "outputs": [
    {
     "name": "stdout",
     "output_type": "stream",
     "text": [
      "14.481481481481481 14.654320987654321\n"
     ]
    }
   ],
   "source": [
    "print(1173/81, 1187/81)"
   ]
  },
  {
   "cell_type": "markdown",
   "id": "3e1fa8b6-7631-4a29-a84a-45752d7fc520",
   "metadata": {},
   "source": [
    "Create some visualizations to describe the data, resetting the data to include all the features."
   ]
  },
  {
   "cell_type": "code",
   "execution_count": 57,
   "id": "ffe91ad0-6e8e-4d15-99ab-4ee8720ee3cb",
   "metadata": {},
   "outputs": [
    {
     "data": {
      "text/plain": [
       "Index(['Balls', 'Strikes', 'PlateHeight', 'PlateSide', 'dummy_PitcherRighty',\n",
       "       'dummy_BatterRighty', 'same_handedness'],\n",
       "      dtype='object')"
      ]
     },
     "execution_count": 57,
     "metadata": {},
     "output_type": "execute_result"
    }
   ],
   "source": [
    "y = bb.CalledStrike\n",
    "X = bb[['Balls','Strikes','PlateHeight','PlateSide','dummy_PitcherRighty','dummy_BatterRighty','same_handedness']]\n",
    "\n",
    "for tr,te in gkf.split(X,y,groups):\n",
    "    X_tr,X_te = X.iloc[tr],X.iloc[te]\n",
    "    y_tr,y_te = y.iloc[tr],y.iloc[te]\n",
    "    break\n",
    "X_tr.columns"
   ]
  },
  {
   "cell_type": "code",
   "execution_count": 58,
   "id": "c4d5f78a-2443-43a0-bf2f-4648e71380a8",
   "metadata": {},
   "outputs": [],
   "source": [
    "import matplotlib.pyplot as plt"
   ]
  },
  {
   "cell_type": "markdown",
   "id": "b9806c85-6e24-4c78-be61-0c43e00e9167",
   "metadata": {},
   "source": [
    "This is a scatterplot using the pitch location data with a color scale depicting the probability of one of the test data pitches being called a strike. While the figures show only location data, the classification was completed using all features. The second plot shows the locations of incorrectly predicted pitches in yellow, the majority of which lie on the boundary between called balls and strikes."
   ]
  },
  {
   "cell_type": "code",
   "execution_count": 59,
   "id": "15d230b8-ee7c-4705-a203-d0b9b0a2d1a0",
   "metadata": {},
   "outputs": [
    {
     "data": {
      "image/png": "[encoded data removed]",
      "text/plain": [
       "<Figure size 864x864 with 3 Axes>"
      ]
     },
     "metadata": {
      "needs_background": "light"
     },
     "output_type": "display_data"
    }
   ],
   "source": [
    "fig,ax = plt.subplots(1,2,sharey=True,sharex=True)\n",
    "y_pp = knn_all_feat.predict_proba(X_te.to_numpy())\n",
    "y_pred = knn_all_feat.predict(X_te.to_numpy())\n",
    "\n",
    "im = ax[0].scatter(X_te.PlateSide,X_te.PlateHeight,c=y_pp[:,1],alpha=1.0)\n",
    "# ax.figure.colorbar()\n",
    "\n",
    "plt.colorbar(im,ax=ax[0],shrink=0.6,orientation='vertical',)\n",
    "ax[0].set_xlabel('Plate Side',fontsize=14)\n",
    "ax[0].set_ylabel('Plate Height',fontsize=14)\n",
    "ax[0].set_title('Probability of Called Strike',fontsize=16)\n",
    "ax[0].set_aspect('equal','box')\n",
    "ax[0].tick_params(labelsize=12)\n",
    "ax[0].grid(True)\n",
    "\n",
    "ax[1].scatter(X_te.PlateSide[y_pred==y_te],X_te.PlateHeight[y_pred==y_te],c='#440154',alpha=1.0,label='Predicted Correctly')\n",
    "ax[1].scatter(X_te.PlateSide[y_pred!=y_te],X_te.PlateHeight[y_pred!=y_te],c='#fde725',alpha=0.2,label='Missed Predictions')\n",
    "ax[1].legend()\n",
    "ax[1].set_xlabel('Plate Side',fontsize=14)\n",
    "ax[1].set_aspect('equal')#,'box')\n",
    "ax[1].set_title('Predicted Calls',fontsize=16)\n",
    "ax[1].tick_params(labelsize=12)\n",
    "ax[1].grid(True)\n",
    "\n",
    "fig.set_figheight(12)\n",
    "fig.set_figwidth(12)\n",
    "fig.subplots_adjust(top=0.5)\n"
   ]
  },
  {
   "cell_type": "code",
   "execution_count": 60,
   "id": "5587bfce-b966-470b-bd16-6080e982a4ea",
   "metadata": {},
   "outputs": [],
   "source": [
    "fig.savefig('KNN_all_features.jpg',bbox_inches='tight')"
   ]
  },
  {
   "cell_type": "markdown",
   "id": "b727f7b4-250c-4255-96bf-bdbec66b137f",
   "metadata": {},
   "source": [
    "The decision function isn't as clear of a strike zone as I'd like, especially on the left side of the figure."
   ]
  },
  {
   "cell_type": "code",
   "execution_count": 61,
   "id": "0c953a2c-2937-403e-8b49-0cca9959c779",
   "metadata": {},
   "outputs": [],
   "source": [
    "def plot_decision_function(X, y, clf, ax, show_data=False):\n",
    "    \"\"\"Plot the decision function of the classifier and the original data\"\"\"\n",
    "    plot_step = 0.02\n",
    "    x_min, x_max = X[:,0].min() - .1, X[:,0].max() + .1\n",
    "    y_min, y_max = X[:,1].min() - .1, X[:,1].max() + .1\n",
    "    xx, yy = np.meshgrid(\n",
    "        np.arange(x_min, x_max, plot_step), np.arange(y_min, y_max, plot_step)\n",
    "    )\n",
    "\n",
    "    Z = clf.predict(np.c_[xx.ravel(), yy.ravel()])\n",
    "    Z = Z.reshape(xx.shape)\n",
    "    \n",
    "    ax.contourf(yy, xx, Z, alpha=1.0,cmap='binary',)\n",
    "    if show_data:\n",
    "        y_pred = clf.predict(X)\n",
    "        plt.scatter(X[:,1][y_te == True],X[:,0][y_te == True],linewidths=1,marker='o',s=1,c='#fde725',alpha=0.4,label='Called Strike')\n",
    "        plt.scatter(X[:,1][y_te == False],X[:,0][y_te == False],linewidths=1,marker='o',s=1,c='#440154',alpha=0.4,label='Called Ball')\n",
    "        ax.legend(facecolor='#ebebeb',markerscale=5.0)"
   ]
  },
  {
   "cell_type": "code",
   "execution_count": 62,
   "id": "57ab0737-0bca-4472-8d30-7711e3531951",
   "metadata": {},
   "outputs": [
    {
     "data": {
      "image/png": "[encoded data removed]",
      "text/plain": [
       "<Figure size 864x864 with 2 Axes>"
      ]
     },
     "metadata": {
      "needs_background": "light"
     },
     "output_type": "display_data"
    }
   ],
   "source": [
    "fig,ax = plt.subplots(1,2,sharey=True,sharex=True)\n",
    "# plt.grid(True)\n",
    "\n",
    "plot_decision_function(X_te[['PlateHeight','PlateSide']].to_numpy(),y_te.to_numpy(),knn_loc_only,ax[0])\n",
    "plot_decision_function(X_te[['PlateHeight','PlateSide']].to_numpy(),y_te.to_numpy(),knn_loc_only,ax[1],True)\n",
    "\n",
    "ax[0].set_aspect('equal','box')\n",
    "ax[0].grid(True)\n",
    "ax[1].set_aspect('equal','box')\n",
    "ax[1].grid(True)\n",
    "fig.set_figheight(12)\n",
    "fig.set_figwidth(12)\n",
    "ax[0].set_xlabel('Plate Side')\n",
    "ax[1].set_xlabel('Plate Side')\n",
    "ax[0].set_ylabel('Plate Height')\n",
    "fig.subplots_adjust(top=.5,wspace=.01);\n",
    "ax[0].set_title('Decision Function for KNN Classifier')\n",
    "ax[1].set_title('Decision Function + Predicted Calls');\n",
    "\n"
   ]
  },
  {
   "cell_type": "markdown",
   "id": "3119492c-aa73-4871-a9e2-e2f4d5f16cc2",
   "metadata": {},
   "source": [
    "The decision function depends on the training data, so I wanted to see what was leading to the discrepencies in the strike zone from what I'd expected, particularly on the left side."
   ]
  },
  {
   "cell_type": "code",
   "execution_count": 63,
   "id": "1b5b0dca-59fe-45fc-9aae-3bdc996d02de",
   "metadata": {},
   "outputs": [],
   "source": [
    "def scatter_hist(x, y, ax, ax_histx, ax_histy, **kwargs):\n",
    "    # no labels\n",
    "    ax_histx.tick_params(axis=\"x\", labelbottom=False)\n",
    "    ax_histy.tick_params(axis=\"y\", labelleft=False)\n",
    "\n",
    "    # the scatter plot:\n",
    "    ax.scatter(x, y, **kwargs)\n",
    "\n",
    "    # now determine nice limits by hand:\n",
    "    binwidth = 0.25\n",
    "    xymax = max(np.max(np.abs(x)), np.max(np.abs(y)))\n",
    "\n",
    "    lim = (int(xymax/binwidth) + 1) * binwidth\n",
    "    \n",
    "    bins = np.arange(-lim, lim + binwidth, binwidth)\n",
    "    ax_histx.hist(x, bins=bins,**kwargs)\n",
    "    ax_histy.hist(y, bins=bins, orientation='horizontal',**kwargs)\n",
    "    ax_histx.set_facecolor('#d6d6d6')\n",
    "    ax_histy.set_facecolor('#d6d6d6')"
   ]
  },
  {
   "cell_type": "markdown",
   "id": "9ed6c275-609a-4948-835f-e9400c7f1a50",
   "metadata": {},
   "source": [
    "There are more called balls and strikes on the left side of center."
   ]
  },
  {
   "cell_type": "code",
   "execution_count": 64,
   "id": "6ca31fac-3f3c-46d7-834b-b8ba33689f29",
   "metadata": {},
   "outputs": [
    {
     "data": {
      "image/png": "[encoded data removed]",
      "text/plain": [
       "<Figure size 576x576 with 3 Axes>"
      ]
     },
     "metadata": {
      "needs_background": "light"
     },
     "output_type": "display_data"
    }
   ],
   "source": [
    "left, width = 0.1, 0.65\n",
    "bottom, height = 0.1, 0.65\n",
    "spacing = 0.005\n",
    "\n",
    "rect_scatter = [left, bottom, width, height]\n",
    "rect_histx = [left, bottom + height + spacing, width, 0.2]\n",
    "rect_histy = [left + width + spacing, bottom, 0.2, height]\n",
    "\n",
    "fig = plt.figure(figsize=(8, 8))\n",
    "\n",
    "ax = fig.add_axes(rect_scatter)\n",
    "ax_histx = fig.add_axes(rect_histx, sharex=ax)\n",
    "ax_histy = fig.add_axes(rect_histy, sharey=ax)\n",
    "\n",
    "scatter_hist(X_tr['PlateSide'][y_tr == 0],X_tr['PlateHeight'][y_tr == 0],ax,ax_histx,ax_histy,color='#000000',label='Called Balls')\n",
    "scatter_hist(X_tr['PlateSide'][y_tr == 1],X_tr['PlateHeight'][y_tr == 1],ax,ax_histx,ax_histy,color='#ffffff',label='Called Strikes')\n",
    "ax.set_facecolor('#d6d6d6')\n",
    "ax.legend(loc=4,facecolor='#d6d6d6')\n",
    "ax.set_aspect('equal','box')\n",
    "ax.grid(True)\n",
    "ax.set_xlabel('Plate Side',fontsize=14)\n",
    "ax.set_ylabel('Plate Height',fontsize=14)\n",
    "ax.tick_params(labelsize=12)\n",
    "ax_histx.set_title('Spatial Distribution of Calls in Training Data',fontsize=16,loc='center');\n"
   ]
  },
  {
   "cell_type": "code",
   "execution_count": 65,
   "id": "95385a06-cc63-4be2-99b5-d6267a43c2b1",
   "metadata": {},
   "outputs": [],
   "source": [
    "fig.savefig('Training_data_distrib.jpg',bbox_inches='tight')"
   ]
  },
  {
   "cell_type": "markdown",
   "id": "a69a288d-d9b3-42d4-8784-280bbe2337d7",
   "metadata": {},
   "source": [
    "Made the same figure again with the resampled data."
   ]
  },
  {
   "cell_type": "code",
   "execution_count": 66,
   "id": "e8d55812-a932-42b6-8a3b-410d23d04ff5",
   "metadata": {},
   "outputs": [
    {
     "data": {
      "text/plain": [
       "Index(['Balls', 'Strikes', 'PlateHeight', 'PlateSide', 'dummy_PitcherRighty',\n",
       "       'dummy_BatterRighty', 'same_handedness'],\n",
       "      dtype='object')"
      ]
     },
     "execution_count": 66,
     "metadata": {},
     "output_type": "execute_result"
    }
   ],
   "source": [
    "X_tr.columns"
   ]
  },
  {
   "cell_type": "code",
   "execution_count": 92,
   "id": "452121f3-703c-4339-9b17-7a8cfcdfe2e0",
   "metadata": {},
   "outputs": [],
   "source": [
    "def scatter_hist_sc(x, y, ax, ax_histx, ax_histy, **kwargs):\n",
    "    '''adjusted for use with MinMaxScaler output'''\n",
    "    # no labels\n",
    "    ax_histx.tick_params(axis=\"x\", labelbottom=False)\n",
    "    ax_histy.tick_params(axis=\"y\", labelleft=False)\n",
    "\n",
    "    # the scatter plot:\n",
    "    ax.scatter(x, y, **kwargs)\n",
    "\n",
    "    # now determine nice limits by hand:\n",
    "    binwidth = 0.02\n",
    "    xymax = max(np.max(np.abs(x)), np.max(np.abs(y)))\n",
    "\n",
    "    lim = (int(xymax/binwidth) + 1) * binwidth\n",
    "    \n",
    "    bins = np.arange(0, lim + binwidth, binwidth)\n",
    "    ax_histx.hist(x, bins=bins,**kwargs)\n",
    "    ax_histy.hist(y, bins=bins, orientation='horizontal',**kwargs)\n",
    "    ax_histx.set_facecolor('#d6d6d6')\n",
    "    ax_histy.set_facecolor('#d6d6d6')"
   ]
  },
  {
   "cell_type": "code",
   "execution_count": 95,
   "id": "de98a4bf-7534-4b24-9d2c-c96d2bff866c",
   "metadata": {},
   "outputs": [
    {
     "data": {
      "image/png": "[encoded data removed]",
      "text/plain": [
       "<Figure size 576x576 with 3 Axes>"
      ]
     },
     "metadata": {
      "needs_background": "light"
     },
     "output_type": "display_data"
    }
   ],
   "source": [
    "left, width = 0.1, 0.65\n",
    "bottom, height = 0.1, 0.65\n",
    "spacing = 0.005\n",
    "\n",
    "rect_scatter = [left, bottom, width, height]\n",
    "rect_histx = [left, bottom + height + spacing, width, 0.2]\n",
    "rect_histy = [left + width + spacing, bottom, 0.2, height]\n",
    "\n",
    "fig = plt.figure(figsize=(8, 8))\n",
    "\n",
    "ax = fig.add_axes(rect_scatter)\n",
    "ax_histx = fig.add_axes(rect_histx, sharex=ax)\n",
    "ax_histy = fig.add_axes(rect_histy, sharey=ax)\n",
    "\n",
    "X_tr_rs= knn_all_feat['minmaxscaler'].transform(X_tr)\n",
    "X_tr_rs,y_tr_rs = knn_all_feat['nearmiss'].fit_resample(X_tr_rs,y_tr)\n",
    "scatter_hist_sc(X_tr_rs[:,3][y_tr_rs == 0],X_tr_rs[:,2][y_tr_rs == 0],ax,ax_histx,ax_histy,color='#000000',label='Called Balls')\n",
    "scatter_hist_sc(X_tr_rs[:,3][y_tr_rs == 1],X_tr_rs[:,2][y_tr_rs == 1],ax,ax_histx,ax_histy,color='#ffffff',label='Called Strikes')\n",
    "ax.set_facecolor('#d6d6d6')\n",
    "ax.legend(loc=4,facecolor='#d6d6d6')\n",
    "ax.set_aspect('equal','box')\n",
    "ax.grid(True)\n",
    "ax.set_xlabel('Plate Side',fontsize=14)\n",
    "ax.set_ylabel('Plate Height',fontsize=14)\n",
    "ax.tick_params(labelsize=12)\n",
    "ax_histx.set_title('Training Data after Scaling + Undersampling',fontsize=16);"
   ]
  },
  {
   "cell_type": "code",
   "execution_count": 96,
   "id": "cb61b81f-e741-420e-bb98-397ab09764ea",
   "metadata": {},
   "outputs": [],
   "source": [
    "fig.savefig('NM1_resampled_training_data_distrib.jpg',bbox_inches='tight')"
   ]
  },
  {
   "cell_type": "markdown",
   "id": "85003814-26e1-4d75-9cdd-1b1c6e16b97f",
   "metadata": {},
   "source": [
    "Even without optimizing for accuracy, I still managed decently high accuracy scores."
   ]
  },
  {
   "cell_type": "code",
   "execution_count": 105,
   "id": "572edf45-9d41-4b38-983e-2262a6e08814",
   "metadata": {},
   "outputs": [
    {
     "data": {
      "text/plain": [
       "0.8745800671892497"
      ]
     },
     "execution_count": 105,
     "metadata": {},
     "output_type": "execute_result"
    }
   ],
   "source": [
    "y_pred = knn_all_feat.predict(X_te)\n",
    "accuracy_score(y_te,y_pred)"
   ]
  },
  {
   "cell_type": "code",
   "execution_count": 106,
   "id": "fef7917b-2995-4e33-b647-22b8430549dc",
   "metadata": {},
   "outputs": [
    {
     "data": {
      "text/plain": [
       "0.8761798112302032"
      ]
     },
     "execution_count": 106,
     "metadata": {},
     "output_type": "execute_result"
    }
   ],
   "source": [
    "y_pred = knn_loc_only.predict(X_te[['PlateHeight','PlateSide']])\n",
    "accuracy_score(y_te,y_pred)"
   ]
  }
 ],
 "metadata": {
  "kernelspec": {
   "display_name": "Python [conda env:metis] *",
   "language": "python",
   "name": "conda-env-metis-py"
  },
  "language_info": {
   "codemirror_mode": {
    "name": "ipython",
    "version": 3
   },
   "file_extension": ".py",
   "mimetype": "text/x-python",
   "name": "python",
   "nbconvert_exporter": "python",
   "pygments_lexer": "ipython3",
   "version": "3.7.7"
  }
 },
 "nbformat": 4,
 "nbformat_minor": 5
}
